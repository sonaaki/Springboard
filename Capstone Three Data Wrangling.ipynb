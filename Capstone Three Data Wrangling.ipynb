{
 "cells": [
  {
   "cell_type": "code",
   "execution_count": 1,
   "id": "224ea62e",
   "metadata": {},
   "outputs": [
    {
     "name": "stdout",
     "output_type": "stream",
     "text": [
      "Dataset downloaded to: /Users/ilkinguliyev/.cache/kagglehub/datasets/paultimothymooney/chest-xray-pneumonia/versions/2\n"
     ]
    }
   ],
   "source": [
    "import kagglehub\n",
    "\n",
    "# Download the dataset\n",
    "path = kagglehub.dataset_download(\"paultimothymooney/chest-xray-pneumonia\")\n",
    "\n",
    "print(f\"Dataset downloaded to: {path}\")"
   ]
  },
  {
   "cell_type": "markdown",
   "id": "ff5f5bc2",
   "metadata": {},
   "source": [
    "# 🧹 Data Wrangling\n",
    "\n",
    "In this section, we collect and organize metadata for all images in the dataset. Since the images are stored in subfolders by label (`NORMAL`, `PNEUMONIA`) and dataset split (`train`, `val`, `test`), we will:\n",
    "\n",
    "1. Traverse all image file paths\n",
    "2. Extract key information (path, label, and dataset split)\n",
    "3. Build a unified DataFrame for analysis\n"
   ]
  },
  {
   "cell_type": "code",
   "execution_count": 2,
   "id": "3e51454e",
   "metadata": {},
   "outputs": [],
   "source": [
    "import os\n",
    "import pandas as pd\n",
    "import matplotlib.pyplot as plt\n",
    "import seaborn as sns\n",
    "from PIL import Image\n",
    "import glob\n",
    "from tqdm import tqdm"
   ]
  },
  {
   "cell_type": "code",
   "execution_count": 3,
   "id": "3eda2b9f",
   "metadata": {},
   "outputs": [],
   "source": [
    "def get_image_data(base_dir):\n",
    "    \"\"\"\n",
    "    Traverse the directory and collect metadata about each image file:\n",
    "    - path: full file path\n",
    "    - set: train/val/test\n",
    "    - label: NORMAL or PNEUMONIA\n",
    "    \"\"\"\n",
    "    data = []\n",
    "    for dataset_split in ['train', 'val', 'test']:\n",
    "        for label in ['NORMAL', 'PNEUMONIA']:\n",
    "            folder_path = os.path.join(base_dir, dataset_split, label)\n",
    "            image_files = glob.glob(os.path.join(folder_path, '*.jpeg'))\n",
    "            for path in image_files:\n",
    "                data.append({\n",
    "                    'path': path,\n",
    "                    'set': dataset_split,\n",
    "                    'label': label\n",
    "                })\n",
    "    return pd.DataFrame(data)"
   ]
  },
  {
   "cell_type": "code",
   "execution_count": 4,
   "id": "f15ff9d2",
   "metadata": {},
   "outputs": [
    {
     "name": "stdout",
     "output_type": "stream",
     "text": [
      "Total images: 5856\n"
     ]
    },
    {
     "data": {
      "text/html": [
       "<div>\n",
       "<style scoped>\n",
       "    .dataframe tbody tr th:only-of-type {\n",
       "        vertical-align: middle;\n",
       "    }\n",
       "\n",
       "    .dataframe tbody tr th {\n",
       "        vertical-align: top;\n",
       "    }\n",
       "\n",
       "    .dataframe thead th {\n",
       "        text-align: right;\n",
       "    }\n",
       "</style>\n",
       "<table border=\"1\" class=\"dataframe\">\n",
       "  <thead>\n",
       "    <tr style=\"text-align: right;\">\n",
       "      <th></th>\n",
       "      <th>path</th>\n",
       "      <th>set</th>\n",
       "      <th>label</th>\n",
       "    </tr>\n",
       "  </thead>\n",
       "  <tbody>\n",
       "    <tr>\n",
       "      <th>0</th>\n",
       "      <td>/Users/ilkinguliyev/.cache/kagglehub/datasets/...</td>\n",
       "      <td>train</td>\n",
       "      <td>NORMAL</td>\n",
       "    </tr>\n",
       "    <tr>\n",
       "      <th>1</th>\n",
       "      <td>/Users/ilkinguliyev/.cache/kagglehub/datasets/...</td>\n",
       "      <td>train</td>\n",
       "      <td>NORMAL</td>\n",
       "    </tr>\n",
       "    <tr>\n",
       "      <th>2</th>\n",
       "      <td>/Users/ilkinguliyev/.cache/kagglehub/datasets/...</td>\n",
       "      <td>train</td>\n",
       "      <td>NORMAL</td>\n",
       "    </tr>\n",
       "    <tr>\n",
       "      <th>3</th>\n",
       "      <td>/Users/ilkinguliyev/.cache/kagglehub/datasets/...</td>\n",
       "      <td>train</td>\n",
       "      <td>NORMAL</td>\n",
       "    </tr>\n",
       "    <tr>\n",
       "      <th>4</th>\n",
       "      <td>/Users/ilkinguliyev/.cache/kagglehub/datasets/...</td>\n",
       "      <td>train</td>\n",
       "      <td>NORMAL</td>\n",
       "    </tr>\n",
       "  </tbody>\n",
       "</table>\n",
       "</div>"
      ],
      "text/plain": [
       "                                                path    set   label\n",
       "0  /Users/ilkinguliyev/.cache/kagglehub/datasets/...  train  NORMAL\n",
       "1  /Users/ilkinguliyev/.cache/kagglehub/datasets/...  train  NORMAL\n",
       "2  /Users/ilkinguliyev/.cache/kagglehub/datasets/...  train  NORMAL\n",
       "3  /Users/ilkinguliyev/.cache/kagglehub/datasets/...  train  NORMAL\n",
       "4  /Users/ilkinguliyev/.cache/kagglehub/datasets/...  train  NORMAL"
      ]
     },
     "execution_count": 4,
     "metadata": {},
     "output_type": "execute_result"
    }
   ],
   "source": [
    "# Path to your downloaded dataset\n",
    "base_dir = \"/Users/ilkinguliyev/.cache/kagglehub/datasets/paultimothymooney/chest-xray-pneumonia/versions/2/chest_xray\"\n",
    "\n",
    "# Generate DataFrame\n",
    "df = get_image_data(base_dir)\n",
    "\n",
    "# View basic info\n",
    "print(f\"Total images: {len(df)}\")\n",
    "df.head()\n"
   ]
  },
  {
   "cell_type": "markdown",
   "id": "5473a77b",
   "metadata": {},
   "source": [
    "## Check Class Distribution\n",
    "\n",
    "It’s important to ensure the dataset has a reasonable balance between NORMAL and PNEUMONIA images across all splits.\n"
   ]
  },
  {
   "cell_type": "code",
   "execution_count": 5,
   "id": "c3078d3a",
   "metadata": {},
   "outputs": [
    {
     "data": {
      "image/png": "[encoded data removed]",
      "text/plain": [
       "<Figure size 800x500 with 1 Axes>"
      ]
     },
     "metadata": {},
     "output_type": "display_data"
    }
   ],
   "source": [
    "df.groupby(['set', 'label']).size().unstack().plot(kind='bar', stacked=True, figsize=(8, 5))\n",
    "plt.title(\"Image Counts by Set and Label\")\n",
    "plt.xlabel(\"Dataset Split\")\n",
    "plt.ylabel(\"Number of Images\")\n",
    "plt.xticks(rotation=0)\n",
    "plt.show()"
   ]
  },
  {
   "cell_type": "markdown",
   "id": "afd7b8ad",
   "metadata": {},
   "source": [
    "✅ **Data Wrangling Summary**:\n",
    "- Image file paths were successfully gathered into a DataFrame\n",
    "- Each image is labeled as `NORMAL` or `PNEUMONIA` and assigned to `train`, `val`, or `test`\n",
    "- Data is now ready for further exploratory analysis and preprocessing\n"
   ]
  }
 ],
 "metadata": {
  "kernelspec": {
   "display_name": "Python 3 (ipykernel)",
   "language": "python",
   "name": "python3"
  },
  "language_info": {
   "codemirror_mode": {
    "name": "ipython",
    "version": 3
   },
   "file_extension": ".py",
   "mimetype": "text/x-python",
   "name": "python",
   "nbconvert_exporter": "python",
   "pygments_lexer": "ipython3",
   "version": "3.9.13"
  }
 },
 "nbformat": 4,
 "nbformat_minor": 5
}
