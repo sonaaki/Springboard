{
 "cells": [
  {
   "cell_type": "markdown",
   "id": "04a284b7",
   "metadata": {},
   "source": [
    "# Modeling"
   ]
  },
  {
   "cell_type": "markdown",
   "id": "78d661af",
   "metadata": {},
   "source": [
    "## Introduction\n",
    "\n",
    "In this project, we aim to build a predictive model to identify the factors associated with frequent mental distress among older adults. The focus is to understand how various demographic, health, and socio-economic factors can influence mental health outcomes, specifically the prevalence of mental distress. Using the **Alzheimer’s Disease and Healthy Aging Data**, the model leverages a variety of features, such as **age group**, **gender**, **state**, and **demographic variables** to predict the **Data_Value** associated with mental distress.\n",
    "\n",
    "The target variable, **Data_Value**, represents the percentage of individuals experiencing frequent mental distress within a given group. Our goal is to explore how factors like age, gender, and geographical location (state) interact to affect mental health, and to build a robust model that can predict mental distress based on these inputs.\n",
    "\n",
    "By incorporating demographic information such as **age group** (e.g., 65+), **gender**, and **state**, along with mental health data such as reported levels of distress, the model will provide valuable insights into which factors most strongly correlate with mental health challenges in the older population. The outcomes of this project can offer actionable insights for policymakers, healthcare providers, and community organizations working to improve the mental well-being of older adults.\n"
   ]
  },
  {
   "cell_type": "markdown",
   "id": "344368b9",
   "metadata": {},
   "source": [
    "## 1. Imports"
   ]
  },
  {
   "cell_type": "code",
   "execution_count": 1,
   "id": "34b327d2",
   "metadata": {},
   "outputs": [],
   "source": [
    "import pandas as pd\n",
    "import numpy as np\n",
    "\n",
    "from sklearn.model_selection import train_test_split\n",
    "from sklearn.preprocessing import StandardScaler, LabelEncoder, OneHotEncoder\n",
    "from sklearn.ensemble import RandomForestRegressor\n",
    "from sklearn.metrics import mean_absolute_error, mean_squared_error, r2_score\n",
    "\n",
    "import matplotlib.pyplot as plt\n",
    "import seaborn as sns"
   ]
  },
  {
   "cell_type": "markdown",
   "id": "a1120810",
   "metadata": {},
   "source": [
    "## 2. Load Data"
   ]
  },
  {
   "cell_type": "code",
   "execution_count": 2,
   "id": "baa4aeab",
   "metadata": {},
   "outputs": [],
   "source": [
    "df = pd.read_csv('mental_data.csv')"
   ]
  },
  {
   "cell_type": "code",
   "execution_count": 3,
   "id": "664878e9",
   "metadata": {},
   "outputs": [
    {
     "name": "stdout",
     "output_type": "stream",
     "text": [
      "<class 'pandas.core.frame.DataFrame'>\n",
      "RangeIndex: 4778 entries, 0 to 4777\n",
      "Data columns (total 9 columns):\n",
      " #   Column                     Non-Null Count  Dtype  \n",
      "---  ------                     --------------  -----  \n",
      " 0   YearStart                  4778 non-null   int64  \n",
      " 1   YearEnd                    4778 non-null   int64  \n",
      " 2   State                      4681 non-null   object \n",
      " 3   Data_Value                 4778 non-null   float64\n",
      " 4   Low_Confidence_Limit       4778 non-null   float64\n",
      " 5   High_Confidence_Limit      4778 non-null   float64\n",
      " 6   Age_group                  4778 non-null   object \n",
      " 7   Stratification2            4778 non-null   object \n",
      " 8   StratificationCategoryID2  4778 non-null   object \n",
      "dtypes: float64(3), int64(2), object(4)\n",
      "memory usage: 336.1+ KB\n"
     ]
    }
   ],
   "source": [
    "df.info()"
   ]
  },
  {
   "cell_type": "markdown",
   "id": "3b8f268c",
   "metadata": {},
   "source": [
    "## 3. Prepare the data for further processing."
   ]
  },
  {
   "cell_type": "code",
   "execution_count": 4,
   "id": "935965d3",
   "metadata": {},
   "outputs": [],
   "source": [
    "df = df.dropna(subset=['State'])"
   ]
  },
  {
   "cell_type": "code",
   "execution_count": 5,
   "id": "67f2ce20",
   "metadata": {},
   "outputs": [
    {
     "data": {
      "text/html": [
       "<div>\n",
       "<style scoped>\n",
       "    .dataframe tbody tr th:only-of-type {\n",
       "        vertical-align: middle;\n",
       "    }\n",
       "\n",
       "    .dataframe tbody tr th {\n",
       "        vertical-align: top;\n",
       "    }\n",
       "\n",
       "    .dataframe thead th {\n",
       "        text-align: right;\n",
       "    }\n",
       "</style>\n",
       "<table border=\"1\" class=\"dataframe\">\n",
       "  <thead>\n",
       "    <tr style=\"text-align: right;\">\n",
       "      <th></th>\n",
       "      <th>YearStart</th>\n",
       "      <th>YearEnd</th>\n",
       "      <th>State</th>\n",
       "      <th>Data_Value</th>\n",
       "      <th>Low_Confidence_Limit</th>\n",
       "      <th>High_Confidence_Limit</th>\n",
       "      <th>Age_group</th>\n",
       "      <th>Stratification2</th>\n",
       "      <th>StratificationCategoryID2</th>\n",
       "    </tr>\n",
       "  </thead>\n",
       "  <tbody>\n",
       "    <tr>\n",
       "      <th>0</th>\n",
       "      <td>2022</td>\n",
       "      <td>2022</td>\n",
       "      <td>MD</td>\n",
       "      <td>9.0</td>\n",
       "      <td>6.5</td>\n",
       "      <td>12.3</td>\n",
       "      <td>65+</td>\n",
       "      <td>Black, non-Hispanic</td>\n",
       "      <td>RACE</td>\n",
       "    </tr>\n",
       "    <tr>\n",
       "      <th>1</th>\n",
       "      <td>2022</td>\n",
       "      <td>2022</td>\n",
       "      <td>WI</td>\n",
       "      <td>5.6</td>\n",
       "      <td>4.4</td>\n",
       "      <td>7.2</td>\n",
       "      <td>65+</td>\n",
       "      <td>Male</td>\n",
       "      <td>GENDER</td>\n",
       "    </tr>\n",
       "    <tr>\n",
       "      <th>2</th>\n",
       "      <td>2022</td>\n",
       "      <td>2022</td>\n",
       "      <td>OK</td>\n",
       "      <td>21.5</td>\n",
       "      <td>15.4</td>\n",
       "      <td>29.2</td>\n",
       "      <td>Overall</td>\n",
       "      <td>Native Am/Alaskan Native</td>\n",
       "      <td>RACE</td>\n",
       "    </tr>\n",
       "    <tr>\n",
       "      <th>3</th>\n",
       "      <td>2022</td>\n",
       "      <td>2022</td>\n",
       "      <td>PA</td>\n",
       "      <td>10.0</td>\n",
       "      <td>8.3</td>\n",
       "      <td>12.1</td>\n",
       "      <td>Overall</td>\n",
       "      <td>White, non-Hispanic</td>\n",
       "      <td>RACE</td>\n",
       "    </tr>\n",
       "    <tr>\n",
       "      <th>4</th>\n",
       "      <td>2016</td>\n",
       "      <td>2016</td>\n",
       "      <td>NH</td>\n",
       "      <td>10.4</td>\n",
       "      <td>8.6</td>\n",
       "      <td>12.6</td>\n",
       "      <td>50-64</td>\n",
       "      <td>Female</td>\n",
       "      <td>GENDER</td>\n",
       "    </tr>\n",
       "  </tbody>\n",
       "</table>\n",
       "</div>"
      ],
      "text/plain": [
       "   YearStart  YearEnd State  Data_Value  Low_Confidence_Limit  \\\n",
       "0       2022     2022    MD         9.0                   6.5   \n",
       "1       2022     2022    WI         5.6                   4.4   \n",
       "2       2022     2022    OK        21.5                  15.4   \n",
       "3       2022     2022    PA        10.0                   8.3   \n",
       "4       2016     2016    NH        10.4                   8.6   \n",
       "\n",
       "   High_Confidence_Limit Age_group           Stratification2  \\\n",
       "0                   12.3       65+       Black, non-Hispanic   \n",
       "1                    7.2       65+                      Male   \n",
       "2                   29.2   Overall  Native Am/Alaskan Native   \n",
       "3                   12.1   Overall       White, non-Hispanic   \n",
       "4                   12.6     50-64                    Female   \n",
       "\n",
       "  StratificationCategoryID2  \n",
       "0                      RACE  \n",
       "1                    GENDER  \n",
       "2                      RACE  \n",
       "3                      RACE  \n",
       "4                    GENDER  "
      ]
     },
     "execution_count": 5,
     "metadata": {},
     "output_type": "execute_result"
    }
   ],
   "source": [
    "df.head()"
   ]
  },
  {
   "cell_type": "code",
   "execution_count": 6,
   "id": "74096b82",
   "metadata": {},
   "outputs": [],
   "source": [
    "df_gender =df[df['StratificationCategoryID2'] == 'GENDER']"
   ]
  },
  {
   "cell_type": "code",
   "execution_count": 7,
   "id": "c788ce56",
   "metadata": {},
   "outputs": [],
   "source": [
    "df_gender = df_gender.drop(columns=['StratificationCategoryID2', 'YearEnd', 'Low_Confidence_Limit', 'High_Confidence_Limit'])\n",
    "df_gender = df_gender.rename(columns={'Stratification2': 'Gender','YearStart':'Year'})"
   ]
  },
  {
   "cell_type": "code",
   "execution_count": 8,
   "id": "14dd53c2",
   "metadata": {},
   "outputs": [
    {
     "name": "stdout",
     "output_type": "stream",
     "text": [
      "<class 'pandas.core.frame.DataFrame'>\n",
      "Int64Index: 2381 entries, 1 to 4775\n",
      "Data columns (total 5 columns):\n",
      " #   Column      Non-Null Count  Dtype  \n",
      "---  ------      --------------  -----  \n",
      " 0   Year        2381 non-null   int64  \n",
      " 1   State       2381 non-null   object \n",
      " 2   Data_Value  2381 non-null   float64\n",
      " 3   Age_group   2381 non-null   object \n",
      " 4   Gender      2381 non-null   object \n",
      "dtypes: float64(1), int64(1), object(3)\n",
      "memory usage: 111.6+ KB\n"
     ]
    }
   ],
   "source": [
    "df_gender.info()"
   ]
  },
  {
   "cell_type": "code",
   "execution_count": 9,
   "id": "cc1e9f3f",
   "metadata": {},
   "outputs": [
    {
     "data": {
      "text/html": [
       "<div>\n",
       "<style scoped>\n",
       "    .dataframe tbody tr th:only-of-type {\n",
       "        vertical-align: middle;\n",
       "    }\n",
       "\n",
       "    .dataframe tbody tr th {\n",
       "        vertical-align: top;\n",
       "    }\n",
       "\n",
       "    .dataframe thead th {\n",
       "        text-align: right;\n",
       "    }\n",
       "</style>\n",
       "<table border=\"1\" class=\"dataframe\">\n",
       "  <thead>\n",
       "    <tr style=\"text-align: right;\">\n",
       "      <th></th>\n",
       "      <th>Year</th>\n",
       "      <th>State</th>\n",
       "      <th>Data_Value</th>\n",
       "      <th>Age_group</th>\n",
       "      <th>Gender</th>\n",
       "    </tr>\n",
       "  </thead>\n",
       "  <tbody>\n",
       "    <tr>\n",
       "      <th>1</th>\n",
       "      <td>2022</td>\n",
       "      <td>WI</td>\n",
       "      <td>5.6</td>\n",
       "      <td>65+</td>\n",
       "      <td>Male</td>\n",
       "    </tr>\n",
       "    <tr>\n",
       "      <th>4</th>\n",
       "      <td>2016</td>\n",
       "      <td>NH</td>\n",
       "      <td>10.4</td>\n",
       "      <td>50-64</td>\n",
       "      <td>Female</td>\n",
       "    </tr>\n",
       "    <tr>\n",
       "      <th>5</th>\n",
       "      <td>2022</td>\n",
       "      <td>NV</td>\n",
       "      <td>7.8</td>\n",
       "      <td>65+</td>\n",
       "      <td>Male</td>\n",
       "    </tr>\n",
       "    <tr>\n",
       "      <th>10</th>\n",
       "      <td>2022</td>\n",
       "      <td>KY</td>\n",
       "      <td>11.0</td>\n",
       "      <td>65+</td>\n",
       "      <td>Male</td>\n",
       "    </tr>\n",
       "    <tr>\n",
       "      <th>13</th>\n",
       "      <td>2022</td>\n",
       "      <td>OK</td>\n",
       "      <td>18.6</td>\n",
       "      <td>50-64</td>\n",
       "      <td>Female</td>\n",
       "    </tr>\n",
       "    <tr>\n",
       "      <th>...</th>\n",
       "      <td>...</td>\n",
       "      <td>...</td>\n",
       "      <td>...</td>\n",
       "      <td>...</td>\n",
       "      <td>...</td>\n",
       "    </tr>\n",
       "    <tr>\n",
       "      <th>4770</th>\n",
       "      <td>2018</td>\n",
       "      <td>WV</td>\n",
       "      <td>12.9</td>\n",
       "      <td>65+</td>\n",
       "      <td>Female</td>\n",
       "    </tr>\n",
       "    <tr>\n",
       "      <th>4772</th>\n",
       "      <td>2015</td>\n",
       "      <td>WY</td>\n",
       "      <td>7.6</td>\n",
       "      <td>65+</td>\n",
       "      <td>Female</td>\n",
       "    </tr>\n",
       "    <tr>\n",
       "      <th>4773</th>\n",
       "      <td>2017</td>\n",
       "      <td>WY</td>\n",
       "      <td>14.9</td>\n",
       "      <td>50-64</td>\n",
       "      <td>Female</td>\n",
       "    </tr>\n",
       "    <tr>\n",
       "      <th>4774</th>\n",
       "      <td>2016</td>\n",
       "      <td>WY</td>\n",
       "      <td>7.7</td>\n",
       "      <td>Overall</td>\n",
       "      <td>Male</td>\n",
       "    </tr>\n",
       "    <tr>\n",
       "      <th>4775</th>\n",
       "      <td>2015</td>\n",
       "      <td>WI</td>\n",
       "      <td>8.9</td>\n",
       "      <td>Overall</td>\n",
       "      <td>Female</td>\n",
       "    </tr>\n",
       "  </tbody>\n",
       "</table>\n",
       "<p>2381 rows × 5 columns</p>\n",
       "</div>"
      ],
      "text/plain": [
       "      Year State  Data_Value Age_group  Gender\n",
       "1     2022    WI         5.6       65+    Male\n",
       "4     2016    NH        10.4     50-64  Female\n",
       "5     2022    NV         7.8       65+    Male\n",
       "10    2022    KY        11.0       65+    Male\n",
       "13    2022    OK        18.6     50-64  Female\n",
       "...    ...   ...         ...       ...     ...\n",
       "4770  2018    WV        12.9       65+  Female\n",
       "4772  2015    WY         7.6       65+  Female\n",
       "4773  2017    WY        14.9     50-64  Female\n",
       "4774  2016    WY         7.7   Overall    Male\n",
       "4775  2015    WI         8.9   Overall  Female\n",
       "\n",
       "[2381 rows x 5 columns]"
      ]
     },
     "execution_count": 9,
     "metadata": {},
     "output_type": "execute_result"
    }
   ],
   "source": [
    "df_gender"
   ]
  },
  {
   "cell_type": "code",
   "execution_count": 10,
   "id": "41646b75",
   "metadata": {},
   "outputs": [
    {
     "data": {
      "image/png": "[encoded data removed]",
      "text/plain": [
       "<Figure size 1000x500 with 1 Axes>"
      ]
     },
     "metadata": {},
     "output_type": "display_data"
    }
   ],
   "source": [
    "df_gender['Age_group'].value_counts().plot(kind='bar', figsize=(10, 5), color='skyblue')\n",
    "plt.xlabel('Age Group')\n",
    "plt.ylabel('Count')\n",
    "plt.title('Distribution of Age Groups')\n",
    "plt.xticks(rotation=45)\n",
    "plt.show()"
   ]
  },
  {
   "cell_type": "code",
   "execution_count": 11,
   "id": "a1618f91",
   "metadata": {},
   "outputs": [],
   "source": [
    "df_gender = df_gender[df_gender['Age_group'] != 'Overall']"
   ]
  },
  {
   "cell_type": "code",
   "execution_count": 12,
   "id": "2dcd7f79",
   "metadata": {},
   "outputs": [
    {
     "data": {
      "text/plain": [
       "(1585, 5)"
      ]
     },
     "execution_count": 12,
     "metadata": {},
     "output_type": "execute_result"
    }
   ],
   "source": [
    "df_gender.shape"
   ]
  },
  {
   "cell_type": "code",
   "execution_count": 13,
   "id": "d3f5f51b",
   "metadata": {},
   "outputs": [
    {
     "name": "stdout",
     "output_type": "stream",
     "text": [
      "Gender Value Counts:\n",
      "Female    796\n",
      "Male      789\n",
      "Name: Gender, dtype: int64 \n",
      "\n",
      "Age Group Value Counts:\n",
      "50-64    794\n",
      "65+      791\n",
      "Name: Age_group, dtype: int64\n"
     ]
    }
   ],
   "source": [
    "print(\"Gender Value Counts:\")\n",
    "print(df_gender['Gender'].value_counts(), \"\\n\")\n",
    "\n",
    "print(\"Age Group Value Counts:\")\n",
    "print(df_gender['Age_group'].value_counts())"
   ]
  },
  {
   "cell_type": "code",
   "execution_count": 14,
   "id": "41bd2d39",
   "metadata": {},
   "outputs": [],
   "source": [
    "df_gender = df_gender.reset_index(drop=True)"
   ]
  },
  {
   "cell_type": "code",
   "execution_count": 15,
   "id": "610229a8",
   "metadata": {},
   "outputs": [
    {
     "name": "stdout",
     "output_type": "stream",
     "text": [
      "<class 'pandas.core.frame.DataFrame'>\n",
      "RangeIndex: 1585 entries, 0 to 1584\n",
      "Data columns (total 5 columns):\n",
      " #   Column      Non-Null Count  Dtype  \n",
      "---  ------      --------------  -----  \n",
      " 0   Year        1585 non-null   int64  \n",
      " 1   State       1585 non-null   object \n",
      " 2   Data_Value  1585 non-null   float64\n",
      " 3   Age_group   1585 non-null   object \n",
      " 4   Gender      1585 non-null   object \n",
      "dtypes: float64(1), int64(1), object(3)\n",
      "memory usage: 62.0+ KB\n"
     ]
    }
   ],
   "source": [
    "df_gender.info()"
   ]
  },
  {
   "cell_type": "code",
   "execution_count": 16,
   "id": "92c0f48c",
   "metadata": {},
   "outputs": [
    {
     "data": {
      "text/html": [
       "<div>\n",
       "<style scoped>\n",
       "    .dataframe tbody tr th:only-of-type {\n",
       "        vertical-align: middle;\n",
       "    }\n",
       "\n",
       "    .dataframe tbody tr th {\n",
       "        vertical-align: top;\n",
       "    }\n",
       "\n",
       "    .dataframe thead th {\n",
       "        text-align: right;\n",
       "    }\n",
       "</style>\n",
       "<table border=\"1\" class=\"dataframe\">\n",
       "  <thead>\n",
       "    <tr style=\"text-align: right;\">\n",
       "      <th></th>\n",
       "      <th>Year</th>\n",
       "      <th>State</th>\n",
       "      <th>Data_Value</th>\n",
       "      <th>Age_group</th>\n",
       "      <th>Gender</th>\n",
       "    </tr>\n",
       "  </thead>\n",
       "  <tbody>\n",
       "    <tr>\n",
       "      <th>0</th>\n",
       "      <td>2022</td>\n",
       "      <td>WI</td>\n",
       "      <td>5.6</td>\n",
       "      <td>65+</td>\n",
       "      <td>Male</td>\n",
       "    </tr>\n",
       "    <tr>\n",
       "      <th>1</th>\n",
       "      <td>2016</td>\n",
       "      <td>NH</td>\n",
       "      <td>10.4</td>\n",
       "      <td>50-64</td>\n",
       "      <td>Female</td>\n",
       "    </tr>\n",
       "    <tr>\n",
       "      <th>2</th>\n",
       "      <td>2022</td>\n",
       "      <td>NV</td>\n",
       "      <td>7.8</td>\n",
       "      <td>65+</td>\n",
       "      <td>Male</td>\n",
       "    </tr>\n",
       "    <tr>\n",
       "      <th>3</th>\n",
       "      <td>2022</td>\n",
       "      <td>KY</td>\n",
       "      <td>11.0</td>\n",
       "      <td>65+</td>\n",
       "      <td>Male</td>\n",
       "    </tr>\n",
       "    <tr>\n",
       "      <th>4</th>\n",
       "      <td>2022</td>\n",
       "      <td>OK</td>\n",
       "      <td>18.6</td>\n",
       "      <td>50-64</td>\n",
       "      <td>Female</td>\n",
       "    </tr>\n",
       "  </tbody>\n",
       "</table>\n",
       "</div>"
      ],
      "text/plain": [
       "   Year State  Data_Value Age_group  Gender\n",
       "0  2022    WI         5.6       65+    Male\n",
       "1  2016    NH        10.4     50-64  Female\n",
       "2  2022    NV         7.8       65+    Male\n",
       "3  2022    KY        11.0       65+    Male\n",
       "4  2022    OK        18.6     50-64  Female"
      ]
     },
     "execution_count": 16,
     "metadata": {},
     "output_type": "execute_result"
    }
   ],
   "source": [
    "df_gender.head()"
   ]
  },
  {
   "cell_type": "markdown",
   "id": "92bb109b",
   "metadata": {},
   "source": [
    "## 4. Processing the data"
   ]
  },
  {
   "cell_type": "code",
   "execution_count": 17,
   "id": "3d39c2be",
   "metadata": {},
   "outputs": [],
   "source": [
    "# Encoding categorical variables\n",
    "label_enc = LabelEncoder()\n",
    "df_gender['State'] = label_enc.fit_transform(df_gender['State'])\n",
    "df_gender['Age_group'] = label_enc.fit_transform(df_gender['Age_group'])\n",
    "df_gender['Gender'] = label_enc.fit_transform(df_gender['Gender'])"
   ]
  },
  {
   "cell_type": "code",
   "execution_count": 18,
   "id": "d279c473",
   "metadata": {},
   "outputs": [
    {
     "data": {
      "text/html": [
       "<div>\n",
       "<style scoped>\n",
       "    .dataframe tbody tr th:only-of-type {\n",
       "        vertical-align: middle;\n",
       "    }\n",
       "\n",
       "    .dataframe tbody tr th {\n",
       "        vertical-align: top;\n",
       "    }\n",
       "\n",
       "    .dataframe thead th {\n",
       "        text-align: right;\n",
       "    }\n",
       "</style>\n",
       "<table border=\"1\" class=\"dataframe\">\n",
       "  <thead>\n",
       "    <tr style=\"text-align: right;\">\n",
       "      <th></th>\n",
       "      <th>Year</th>\n",
       "      <th>State</th>\n",
       "      <th>Data_Value</th>\n",
       "      <th>Age_group</th>\n",
       "      <th>Gender</th>\n",
       "    </tr>\n",
       "  </thead>\n",
       "  <tbody>\n",
       "    <tr>\n",
       "      <th>0</th>\n",
       "      <td>2022</td>\n",
       "      <td>47</td>\n",
       "      <td>5.6</td>\n",
       "      <td>1</td>\n",
       "      <td>1</td>\n",
       "    </tr>\n",
       "    <tr>\n",
       "      <th>1</th>\n",
       "      <td>2016</td>\n",
       "      <td>29</td>\n",
       "      <td>10.4</td>\n",
       "      <td>0</td>\n",
       "      <td>0</td>\n",
       "    </tr>\n",
       "    <tr>\n",
       "      <th>2</th>\n",
       "      <td>2022</td>\n",
       "      <td>32</td>\n",
       "      <td>7.8</td>\n",
       "      <td>1</td>\n",
       "      <td>1</td>\n",
       "    </tr>\n",
       "    <tr>\n",
       "      <th>3</th>\n",
       "      <td>2022</td>\n",
       "      <td>16</td>\n",
       "      <td>11.0</td>\n",
       "      <td>1</td>\n",
       "      <td>1</td>\n",
       "    </tr>\n",
       "    <tr>\n",
       "      <th>4</th>\n",
       "      <td>2022</td>\n",
       "      <td>35</td>\n",
       "      <td>18.6</td>\n",
       "      <td>0</td>\n",
       "      <td>0</td>\n",
       "    </tr>\n",
       "    <tr>\n",
       "      <th>...</th>\n",
       "      <td>...</td>\n",
       "      <td>...</td>\n",
       "      <td>...</td>\n",
       "      <td>...</td>\n",
       "      <td>...</td>\n",
       "    </tr>\n",
       "    <tr>\n",
       "      <th>1580</th>\n",
       "      <td>2017</td>\n",
       "      <td>47</td>\n",
       "      <td>7.3</td>\n",
       "      <td>1</td>\n",
       "      <td>0</td>\n",
       "    </tr>\n",
       "    <tr>\n",
       "      <th>1581</th>\n",
       "      <td>2016</td>\n",
       "      <td>48</td>\n",
       "      <td>15.5</td>\n",
       "      <td>0</td>\n",
       "      <td>1</td>\n",
       "    </tr>\n",
       "    <tr>\n",
       "      <th>1582</th>\n",
       "      <td>2018</td>\n",
       "      <td>48</td>\n",
       "      <td>12.9</td>\n",
       "      <td>1</td>\n",
       "      <td>0</td>\n",
       "    </tr>\n",
       "    <tr>\n",
       "      <th>1583</th>\n",
       "      <td>2015</td>\n",
       "      <td>49</td>\n",
       "      <td>7.6</td>\n",
       "      <td>1</td>\n",
       "      <td>0</td>\n",
       "    </tr>\n",
       "    <tr>\n",
       "      <th>1584</th>\n",
       "      <td>2017</td>\n",
       "      <td>49</td>\n",
       "      <td>14.9</td>\n",
       "      <td>0</td>\n",
       "      <td>0</td>\n",
       "    </tr>\n",
       "  </tbody>\n",
       "</table>\n",
       "<p>1585 rows × 5 columns</p>\n",
       "</div>"
      ],
      "text/plain": [
       "      Year  State  Data_Value  Age_group  Gender\n",
       "0     2022     47         5.6          1       1\n",
       "1     2016     29        10.4          0       0\n",
       "2     2022     32         7.8          1       1\n",
       "3     2022     16        11.0          1       1\n",
       "4     2022     35        18.6          0       0\n",
       "...    ...    ...         ...        ...     ...\n",
       "1580  2017     47         7.3          1       0\n",
       "1581  2016     48        15.5          0       1\n",
       "1582  2018     48        12.9          1       0\n",
       "1583  2015     49         7.6          1       0\n",
       "1584  2017     49        14.9          0       0\n",
       "\n",
       "[1585 rows x 5 columns]"
      ]
     },
     "execution_count": 18,
     "metadata": {},
     "output_type": "execute_result"
    }
   ],
   "source": [
    "df_gender"
   ]
  },
  {
   "cell_type": "code",
   "execution_count": 19,
   "id": "cef024f7",
   "metadata": {},
   "outputs": [],
   "source": [
    "# Define features (X) and target variable (y)\n",
    "X = df_gender.drop(columns=['Data_Value'])  # Features\n",
    "y = df_gender['Data_Value']  # Target variable"
   ]
  },
  {
   "cell_type": "code",
   "execution_count": 20,
   "id": "37e832bb",
   "metadata": {},
   "outputs": [],
   "source": [
    "# Split data into 80% training and 20% testing\n",
    "X_train, X_test, y_train, y_test = train_test_split(X, y, test_size=0.2, random_state=42)"
   ]
  },
  {
   "cell_type": "code",
   "execution_count": 21,
   "id": "8adc29b5",
   "metadata": {},
   "outputs": [],
   "source": [
    "# Scale numeric features\n",
    "scaler = StandardScaler()\n",
    "X_train_scaled = scaler.fit_transform(X_train)\n",
    "X_test_scaled = scaler.transform(X_test)"
   ]
  },
  {
   "cell_type": "markdown",
   "id": "8bc9d0c8",
   "metadata": {},
   "source": [
    "## 5. Defining the Model and Training the Data\n",
    "\n",
    "Since the target variable is continuous, a Random Forest Regressor will be used for this dataset."
   ]
  },
  {
   "cell_type": "code",
   "execution_count": 22,
   "id": "6ec42f63",
   "metadata": {},
   "outputs": [
    {
     "data": {
      "text/html": [
       "<style>#sk-container-id-1 {color: black;background-color: white;}#sk-container-id-1 pre{padding: 0;}#sk-container-id-1 div.sk-toggleable {background-color: white;}#sk-container-id-1 label.sk-toggleable__label {cursor: pointer;display: block;width: 100%;margin-bottom: 0;padding: 0.3em;box-sizing: border-box;text-align: center;}#sk-container-id-1 label.sk-toggleable__label-arrow:before {content: \"▸\";float: left;margin-right: 0.25em;color: #696969;}#sk-container-id-1 label.sk-toggleable__label-arrow:hover:before {color: black;}#sk-container-id-1 div.sk-estimator:hover label.sk-toggleable__label-arrow:before {color: black;}#sk-container-id-1 div.sk-toggleable__content {max-height: 0;max-width: 0;overflow: hidden;text-align: left;background-color: #f0f8ff;}#sk-container-id-1 div.sk-toggleable__content pre {margin: 0.2em;color: black;border-radius: 0.25em;background-color: #f0f8ff;}#sk-container-id-1 input.sk-toggleable__control:checked~div.sk-toggleable__content {max-height: 200px;max-width: 100%;overflow: auto;}#sk-container-id-1 input.sk-toggleable__control:checked~label.sk-toggleable__label-arrow:before {content: \"▾\";}#sk-container-id-1 div.sk-estimator input.sk-toggleable__control:checked~label.sk-toggleable__label {background-color: #d4ebff;}#sk-container-id-1 div.sk-label input.sk-toggleable__control:checked~label.sk-toggleable__label {background-color: #d4ebff;}#sk-container-id-1 input.sk-hidden--visually {border: 0;clip: rect(1px 1px 1px 1px);clip: rect(1px, 1px, 1px, 1px);height: 1px;margin: -1px;overflow: hidden;padding: 0;position: absolute;width: 1px;}#sk-container-id-1 div.sk-estimator {font-family: monospace;background-color: #f0f8ff;border: 1px dotted black;border-radius: 0.25em;box-sizing: border-box;margin-bottom: 0.5em;}#sk-container-id-1 div.sk-estimator:hover {background-color: #d4ebff;}#sk-container-id-1 div.sk-parallel-item::after {content: \"\";width: 100%;border-bottom: 1px solid gray;flex-grow: 1;}#sk-container-id-1 div.sk-label:hover label.sk-toggleable__label {background-color: #d4ebff;}#sk-container-id-1 div.sk-serial::before {content: \"\";position: absolute;border-left: 1px solid gray;box-sizing: border-box;top: 0;bottom: 0;left: 50%;z-index: 0;}#sk-container-id-1 div.sk-serial {display: flex;flex-direction: column;align-items: center;background-color: white;padding-right: 0.2em;padding-left: 0.2em;position: relative;}#sk-container-id-1 div.sk-item {position: relative;z-index: 1;}#sk-container-id-1 div.sk-parallel {display: flex;align-items: stretch;justify-content: center;background-color: white;position: relative;}#sk-container-id-1 div.sk-item::before, #sk-container-id-1 div.sk-parallel-item::before {content: \"\";position: absolute;border-left: 1px solid gray;box-sizing: border-box;top: 0;bottom: 0;left: 50%;z-index: -1;}#sk-container-id-1 div.sk-parallel-item {display: flex;flex-direction: column;z-index: 1;position: relative;background-color: white;}#sk-container-id-1 div.sk-parallel-item:first-child::after {align-self: flex-end;width: 50%;}#sk-container-id-1 div.sk-parallel-item:last-child::after {align-self: flex-start;width: 50%;}#sk-container-id-1 div.sk-parallel-item:only-child::after {width: 0;}#sk-container-id-1 div.sk-dashed-wrapped {border: 1px dashed gray;margin: 0 0.4em 0.5em 0.4em;box-sizing: border-box;padding-bottom: 0.4em;background-color: white;}#sk-container-id-1 div.sk-label label {font-family: monospace;font-weight: bold;display: inline-block;line-height: 1.2em;}#sk-container-id-1 div.sk-label-container {text-align: center;}#sk-container-id-1 div.sk-container {/* jupyter's `normalize.less` sets `[hidden] { display: none; }` but bootstrap.min.css set `[hidden] { display: none !important; }` so we also need the `!important` here to be able to override the default hidden behavior on the sphinx rendered scikit-learn.org. See: https://github.com/scikit-learn/scikit-learn/issues/21755 */display: inline-block !important;position: relative;}#sk-container-id-1 div.sk-text-repr-fallback {display: none;}</style><div id=\"sk-container-id-1\" class=\"sk-top-container\"><div class=\"sk-text-repr-fallback\"><pre>RandomForestRegressor(random_state=42)</pre><b>In a Jupyter environment, please rerun this cell to show the HTML representation or trust the notebook. <br />On GitHub, the HTML representation is unable to render, please try loading this page with nbviewer.org.</b></div><div class=\"sk-container\" hidden><div class=\"sk-item\"><div class=\"sk-estimator sk-toggleable\"><input class=\"sk-toggleable__control sk-hidden--visually\" id=\"sk-estimator-id-1\" type=\"checkbox\" checked><label for=\"sk-estimator-id-1\" class=\"sk-toggleable__label sk-toggleable__label-arrow\">RandomForestRegressor</label><div class=\"sk-toggleable__content\"><pre>RandomForestRegressor(random_state=42)</pre></div></div></div></div></div>"
      ],
      "text/plain": [
       "RandomForestRegressor(random_state=42)"
      ]
     },
     "execution_count": 22,
     "metadata": {},
     "output_type": "execute_result"
    }
   ],
   "source": [
    "# Train a regression model (Random Forest)\n",
    "model = RandomForestRegressor(n_estimators=100, random_state=42)\n",
    "model.fit(X_train_scaled, y_train)"
   ]
  },
  {
   "cell_type": "code",
   "execution_count": 23,
   "id": "90354097",
   "metadata": {},
   "outputs": [],
   "source": [
    "# Make predictions\n",
    "y_pred = model.predict(X_test_scaled)"
   ]
  },
  {
   "cell_type": "markdown",
   "id": "3894e813",
   "metadata": {},
   "source": [
    "## 6. Evaluate the model"
   ]
  },
  {
   "cell_type": "code",
   "execution_count": 24,
   "id": "8d2962f7",
   "metadata": {},
   "outputs": [
    {
     "name": "stdout",
     "output_type": "stream",
     "text": [
      "Mean Absolute Error (MAE): 1.2962\n",
      "Mean Squared Error (MSE): 2.7760\n",
      "Root Mean Squared Error (RMSE): 1.6661\n",
      "R² Score: 0.8284\n"
     ]
    }
   ],
   "source": [
    "# Evaluate the model\n",
    "mae = mean_absolute_error(y_test, y_pred)\n",
    "mse = mean_squared_error(y_test, y_pred)\n",
    "rmse = np.sqrt(mse)\n",
    "r2 = r2_score(y_test, y_pred)\n",
    "\n",
    "print(f\"Mean Absolute Error (MAE): {mae:.4f}\")\n",
    "print(f\"Mean Squared Error (MSE): {mse:.4f}\")\n",
    "print(f\"Root Mean Squared Error (RMSE): {rmse:.4f}\")\n",
    "print(f\"R² Score: {r2:.4f}\")"
   ]
  },
  {
   "cell_type": "code",
   "execution_count": 25,
   "id": "7744efa4",
   "metadata": {},
   "outputs": [
    {
     "data": {
      "image/png": "[encoded data removed]",
      "text/plain": [
       "<Figure size 600x400 with 1 Axes>"
      ]
     },
     "metadata": {},
     "output_type": "display_data"
    }
   ],
   "source": [
    "# Plot actual vs predicted values\n",
    "plt.figure(figsize=(6, 4))\n",
    "sns.scatterplot(x=y_test, y=y_pred, alpha=0.7)\n",
    "plt.xlabel(\"Actual Values\")\n",
    "plt.ylabel(\"Predicted Values\")\n",
    "plt.title(\"Actual vs Predicted Data_Value\")\n",
    "plt.axline([0, 0], [1, 1], color='red', linestyle=\"--\")  # Ideal fit line\n",
    "plt.show()"
   ]
  },
  {
   "cell_type": "markdown",
   "id": "6c1d845d",
   "metadata": {},
   "source": [
    "## 7. Define a Tolerance (e.g., 20% of the actual value)"
   ]
  },
  {
   "cell_type": "code",
   "execution_count": 26,
   "id": "c93b8807",
   "metadata": {},
   "outputs": [
    {
     "name": "stdout",
     "output_type": "stream",
     "text": [
      "Percentage of True Predictions (within 20.0% tolerance): 80.13%\n"
     ]
    }
   ],
   "source": [
    "tolerance = 0.20  # 20% tolerance\n",
    "\n",
    "# Calculate the absolute percentage error\n",
    "percentage_error = np.abs((y_pred - y_test) / y_test)\n",
    "\n",
    "# Count the number of predictions within the tolerance range\n",
    "true_predictions = np.sum(percentage_error <= tolerance)\n",
    "\n",
    "# Calculate the percentage of accurate predictions\n",
    "true_prediction_percentage = (true_predictions / len(y_test)) * 100\n",
    "\n",
    "print(f\"Percentage of True Predictions (within {tolerance*100}% tolerance): {true_prediction_percentage:.2f}%\")\n"
   ]
  },
  {
   "cell_type": "markdown",
   "id": "5a153872",
   "metadata": {},
   "source": [
    "## 8. Perform Randomized Search with Cross-Validation"
   ]
  },
  {
   "cell_type": "code",
   "execution_count": 27,
   "id": "e52c6306",
   "metadata": {},
   "outputs": [
    {
     "name": "stdout",
     "output_type": "stream",
     "text": [
      "Fitting 5 folds for each of 20 candidates, totalling 100 fits\n",
      "Best Hyperparameters: {'n_estimators': 200, 'min_samples_split': 5, 'min_samples_leaf': 1, 'max_features': 1.0, 'max_depth': None}\n"
     ]
    }
   ],
   "source": [
    "from sklearn.model_selection import RandomizedSearchCV\n",
    "\n",
    "# Define parameter grid\n",
    "param_grid = {\n",
    "    'n_estimators': [50, 100, 200, 300],\n",
    "    'max_depth': [10, 20, 30, None],\n",
    "    'min_samples_split': [2, 5, 10],\n",
    "    'min_samples_leaf': [1, 2, 4],\n",
    "    'max_features': [1.0, 'sqrt']\n",
    "}\n",
    "\n",
    "\n",
    "\n",
    "# Perform Randomized Search with Cross-Validation\n",
    "rf_random = RandomizedSearchCV(\n",
    "    estimator=model, \n",
    "    param_distributions=param_grid, \n",
    "    n_iter=20,  # Number of random combinations to try\n",
    "    cv=5,       # 5-fold cross-validation\n",
    "    verbose=2,\n",
    "    n_jobs=-1,  # Use all available cores\n",
    "    random_state=42\n",
    ")\n",
    "\n",
    "# Fit the model\n",
    "rf_random.fit(X_train, y_train)\n",
    "\n",
    "# Best model predictions\n",
    "y_pred_rf_tuned = rf_random.best_estimator_.predict(X_test)\n",
    "\n",
    "# Best parameters\n",
    "print(\"Best Hyperparameters:\", rf_random.best_params_)\n",
    "\n"
   ]
  },
  {
   "cell_type": "code",
   "execution_count": 28,
   "id": "30b1e8b8",
   "metadata": {},
   "outputs": [
    {
     "name": "stdout",
     "output_type": "stream",
     "text": [
      "Tuned Random Forest Performance:\n",
      "RMSE: 1.6072\n",
      "R² Score: 0.8403\n",
      "------------------------------\n"
     ]
    }
   ],
   "source": [
    "# Evaluation Function\n",
    "def evaluate_model(y_true, y_pred, model_name):\n",
    "    mse = mean_squared_error(y_true, y_pred)\n",
    "    rmse = np.sqrt(mse)\n",
    "    r2 = r2_score(y_true, y_pred)\n",
    "    print(f\"{model_name} Performance:\")\n",
    "    print(f\"RMSE: {rmse:.4f}\")\n",
    "    print(f\"R² Score: {r2:.4f}\")\n",
    "    print(\"-\" * 30)\n",
    "\n",
    "\n",
    "    \n",
    "# Evaluate the tuned Random Forest model\n",
    "evaluate_model(y_test, y_pred_rf_tuned, \"Tuned Random Forest\")\n"
   ]
  },
  {
   "cell_type": "markdown",
   "id": "fdc026f3",
   "metadata": {},
   "source": [
    "## Gradient Boosting Regressor Implementation\n",
    "After training and evaluating the Random Forest Regressor, I am now implementing a Gradient Boosting Regressor (GBR) to compare performance."
   ]
  },
  {
   "cell_type": "code",
   "execution_count": 29,
   "id": "6e01a540",
   "metadata": {},
   "outputs": [
    {
     "name": "stdout",
     "output_type": "stream",
     "text": [
      "Gradient Boosting Regressor Performance:\n",
      "RMSE: 1.7529\n",
      "R² Score: 0.8101\n"
     ]
    }
   ],
   "source": [
    "from sklearn.ensemble import GradientBoostingRegressor\n",
    "\n",
    "\n",
    "# Initialize the model\n",
    "gbr = GradientBoostingRegressor(n_estimators=100, learning_rate=0.1, max_depth=3, random_state=42)\n",
    "\n",
    "# Train the model\n",
    "gbr.fit(X_train, y_train)\n",
    "\n",
    "# Predictions\n",
    "y_pred_gbr = gbr.predict(X_test)\n",
    "\n",
    "# Evaluate Performance\n",
    "rmse_gbr = np.sqrt(mean_squared_error(y_test, y_pred_gbr))\n",
    "r2_gbr = r2_score(y_test, y_pred_gbr)\n",
    "\n",
    "print(f\"Gradient Boosting Regressor Performance:\")\n",
    "print(f\"RMSE: {rmse_gbr:.4f}\")\n",
    "print(f\"R² Score: {r2_gbr:.4f}\")\n"
   ]
  },
  {
   "cell_type": "markdown",
   "id": "9aa29a86",
   "metadata": {},
   "source": [
    "## Gradient Boosting Regressor Results\n",
    "\n",
    "These results show that the Gradient Boosting Regressor performs **quite well**, explaining approximately **81%** of the variance in the target variable. However, its performance is **slightly lower** than that of the Random Forest Regressor, which achieved:\n",
    "\n",
    "- **RMSE:** 1.6360  \n",
    "- **R² Score:** 0.8346  \n",
    "\n",
    "Despite the slightly reduced performance, Gradient Boosting may still be preferred in some scenarios due to its ability to **reduce bias** and deliver **strong results with proper hyperparameter tuning**. "
   ]
  },
  {
   "cell_type": "markdown",
   "id": "5d1765cc",
   "metadata": {},
   "source": [
    "Using GridSearchCV or Bayesian Optimization for tuning the Gradient Boosting Regressor to potentially enhance its predictive power."
   ]
  },
  {
   "cell_type": "code",
   "execution_count": 30,
   "id": "db7d0c07",
   "metadata": {},
   "outputs": [
    {
     "name": "stdout",
     "output_type": "stream",
     "text": [
      "|   iter    |  target   | learni... | max_depth | n_esti... |\n",
      "-------------------------------------------------------------\n",
      "| \u001b[39m1        \u001b[39m | \u001b[39m-1.827   \u001b[39m | \u001b[39m0.1186   \u001b[39m | \u001b[39m9.655    \u001b[39m | \u001b[39m233.0    \u001b[39m |\n",
      "| \u001b[35m2        \u001b[39m | \u001b[35m-1.51    \u001b[39m | \u001b[35m0.1836   \u001b[39m | \u001b[35m4.092    \u001b[39m | \u001b[35m89.0     \u001b[39m |\n",
      "| \u001b[39m3        \u001b[39m | \u001b[39m-1.766   \u001b[39m | \u001b[39m0.02684  \u001b[39m | \u001b[39m9.063    \u001b[39m | \u001b[39m200.3    \u001b[39m |\n",
      "| \u001b[39m4        \u001b[39m | \u001b[39m-1.514   \u001b[39m | \u001b[39m0.2153   \u001b[39m | \u001b[39m3.144    \u001b[39m | \u001b[39m292.5    \u001b[39m |\n",
      "| \u001b[39m5        \u001b[39m | \u001b[39m-1.533   \u001b[39m | \u001b[39m0.2514   \u001b[39m | \u001b[39m4.486    \u001b[39m | \u001b[39m95.46    \u001b[39m |\n",
      "| \u001b[39m6        \u001b[39m | \u001b[39m-1.79    \u001b[39m | \u001b[39m0.1287   \u001b[39m | \u001b[39m9.943    \u001b[39m | \u001b[39m50.21    \u001b[39m |\n",
      "| \u001b[39m7        \u001b[39m | \u001b[39m-2.215   \u001b[39m | \u001b[39m0.01851  \u001b[39m | \u001b[39m3.212    \u001b[39m | \u001b[39m139.7    \u001b[39m |\n",
      "| \u001b[39m8        \u001b[39m | \u001b[39m-1.816   \u001b[39m | \u001b[39m0.2853   \u001b[39m | \u001b[39m9.824    \u001b[39m | \u001b[39m270.4    \u001b[39m |\n",
      "| \u001b[39m9        \u001b[39m | \u001b[39m-1.793   \u001b[39m | \u001b[39m0.07135  \u001b[39m | \u001b[39m9.207    \u001b[39m | \u001b[39m300.0    \u001b[39m |\n",
      "| \u001b[39m10       \u001b[39m | \u001b[39m-1.766   \u001b[39m | \u001b[39m0.06672  \u001b[39m | \u001b[39m9.965    \u001b[39m | \u001b[39m78.4     \u001b[39m |\n",
      "| \u001b[39m11       \u001b[39m | \u001b[39m-1.511   \u001b[39m | \u001b[39m0.2339   \u001b[39m | \u001b[39m3.185    \u001b[39m | \u001b[39m283.5    \u001b[39m |\n",
      "| \u001b[39m12       \u001b[39m | \u001b[39m-1.985   \u001b[39m | \u001b[39m0.02464  \u001b[39m | \u001b[39m3.225    \u001b[39m | \u001b[39m176.8    \u001b[39m |\n",
      "| \u001b[39m13       \u001b[39m | \u001b[39m-1.835   \u001b[39m | \u001b[39m0.139    \u001b[39m | \u001b[39m9.945    \u001b[39m | \u001b[39m110.1    \u001b[39m |\n",
      "| \u001b[39m14       \u001b[39m | \u001b[39m-1.829   \u001b[39m | \u001b[39m0.2335   \u001b[39m | \u001b[39m9.921    \u001b[39m | \u001b[39m286.7    \u001b[39m |\n",
      "| \u001b[39m15       \u001b[39m | \u001b[39m-1.848   \u001b[39m | \u001b[39m0.2455   \u001b[39m | \u001b[39m9.996    \u001b[39m | \u001b[39m91.74    \u001b[39m |\n",
      "| \u001b[35m16       \u001b[39m | \u001b[35m-1.505   \u001b[39m | \u001b[35m0.1924   \u001b[39m | \u001b[35m3.221    \u001b[39m | \u001b[35m287.7    \u001b[39m |\n",
      "| \u001b[39m17       \u001b[39m | \u001b[39m-1.641   \u001b[39m | \u001b[39m0.1289   \u001b[39m | \u001b[39m3.159    \u001b[39m | \u001b[39m83.28    \u001b[39m |\n",
      "| \u001b[39m18       \u001b[39m | \u001b[39m-1.516   \u001b[39m | \u001b[39m0.2289   \u001b[39m | \u001b[39m3.021    \u001b[39m | \u001b[39m101.2    \u001b[39m |\n",
      "| \u001b[39m19       \u001b[39m | \u001b[39m-1.519   \u001b[39m | \u001b[39m0.2977   \u001b[39m | \u001b[39m3.041    \u001b[39m | \u001b[39m251.5    \u001b[39m |\n",
      "| \u001b[39m20       \u001b[39m | \u001b[39m-1.839   \u001b[39m | \u001b[39m0.2613   \u001b[39m | \u001b[39m9.93     \u001b[39m | \u001b[39m253.9    \u001b[39m |\n",
      "| \u001b[39m21       \u001b[39m | \u001b[39m-1.528   \u001b[39m | \u001b[39m0.2561   \u001b[39m | \u001b[39m3.141    \u001b[39m | \u001b[39m244.9    \u001b[39m |\n",
      "| \u001b[35m22       \u001b[39m | \u001b[35m-1.504   \u001b[39m | \u001b[35m0.1758   \u001b[39m | \u001b[35m3.101    \u001b[39m | \u001b[35m215.5    \u001b[39m |\n",
      "| \u001b[39m23       \u001b[39m | \u001b[39m-1.812   \u001b[39m | \u001b[39m0.06289  \u001b[39m | \u001b[39m9.982    \u001b[39m | \u001b[39m215.7    \u001b[39m |\n",
      "| \u001b[39m24       \u001b[39m | \u001b[39m-1.516   \u001b[39m | \u001b[39m0.1279   \u001b[39m | \u001b[39m3.1      \u001b[39m | \u001b[39m221.7    \u001b[39m |\n",
      "| \u001b[39m25       \u001b[39m | \u001b[39m-1.506   \u001b[39m | \u001b[39m0.2059   \u001b[39m | \u001b[39m3.021    \u001b[39m | \u001b[39m208.3    \u001b[39m |\n",
      "| \u001b[39m26       \u001b[39m | \u001b[39m-2.165   \u001b[39m | \u001b[39m0.04485  \u001b[39m | \u001b[39m3.02     \u001b[39m | \u001b[39m64.1     \u001b[39m |\n",
      "| \u001b[39m27       \u001b[39m | \u001b[39m-1.802   \u001b[39m | \u001b[39m0.08603  \u001b[39m | \u001b[39m9.955    \u001b[39m | \u001b[39m160.0    \u001b[39m |\n",
      "| \u001b[39m28       \u001b[39m | \u001b[39m-2.325   \u001b[39m | \u001b[39m0.01547  \u001b[39m | \u001b[39m3.086    \u001b[39m | \u001b[39m120.2    \u001b[39m |\n",
      "| \u001b[39m29       \u001b[39m | \u001b[39m-1.507   \u001b[39m | \u001b[39m0.1984   \u001b[39m | \u001b[39m3.031    \u001b[39m | \u001b[39m262.3    \u001b[39m |\n",
      "| \u001b[39m30       \u001b[39m | \u001b[39m-1.568   \u001b[39m | \u001b[39m0.05185  \u001b[39m | \u001b[39m3.082    \u001b[39m | \u001b[39m274.3    \u001b[39m |\n",
      "=============================================================\n",
      "{'target': -1.5040647467570267, 'params': {'learning_rate': 0.17584763229261158, 'max_depth': 3.101025234177242, 'n_estimators': 215.4778316863315}}\n"
     ]
    }
   ],
   "source": [
    "from bayes_opt import BayesianOptimization\n",
    "from sklearn.ensemble import GradientBoostingRegressor\n",
    "from sklearn.model_selection import cross_val_score\n",
    "import numpy as np\n",
    "\n",
    "# Define the function to maximize\n",
    "def gbr_cv(n_estimators, max_depth, learning_rate):\n",
    "    model = GradientBoostingRegressor(\n",
    "        n_estimators=int(n_estimators),\n",
    "        max_depth=int(max_depth),\n",
    "        learning_rate=learning_rate,\n",
    "        random_state=42\n",
    "    )\n",
    "    # 5-fold cross validation, scoring with negative RMSE\n",
    "    scores = cross_val_score(model, X_train, y_train, cv=5, scoring='neg_root_mean_squared_error')\n",
    "    return scores.mean()\n",
    "\n",
    "# Define the parameter space\n",
    "pbounds = {\n",
    "    'n_estimators': (50, 300),\n",
    "    'max_depth': (3, 10),\n",
    "    'learning_rate': (0.01, 0.3)\n",
    "}\n",
    "\n",
    "# Create Bayesian optimizer\n",
    "optimizer = BayesianOptimization(\n",
    "    f=gbr_cv,\n",
    "    pbounds=pbounds,\n",
    "    random_state=42\n",
    ")\n",
    "\n",
    "# Maximize\n",
    "optimizer.maximize(init_points=5, n_iter=25)\n",
    "\n",
    "# Best result\n",
    "print(optimizer.max)\n"
   ]
  },
  {
   "cell_type": "code",
   "execution_count": 31,
   "id": "369379da",
   "metadata": {},
   "outputs": [
    {
     "name": "stdout",
     "output_type": "stream",
     "text": [
      "📊 Optimized Gradient Boosting Regressor Performance:\n",
      "Mean Absolute Error (MAE): 1.1794\n",
      "Mean Squared Error (MSE): 2.3291\n",
      "Root Mean Squared Error (RMSE): 1.5261\n",
      "R² Score: 0.8560\n",
      "[CV] END max_depth=10, max_features=sqrt, min_samples_leaf=1, min_samples_split=10, n_estimators=100; total time=   0.3s\n",
      "[CV] END max_depth=None, max_features=sqrt, min_samples_leaf=1, min_samples_split=5, n_estimators=50; total time=   0.1s\n",
      "[CV] END max_depth=10, max_features=sqrt, min_samples_leaf=1, min_samples_split=5, n_estimators=200; total time=   0.4s\n",
      "[CV] END max_depth=10, max_features=sqrt, min_samples_leaf=1, min_samples_split=10, n_estimators=200; total time=   0.4s\n",
      "[CV] END max_depth=20, max_features=1.0, min_samples_leaf=1, min_samples_split=5, n_estimators=100; total time=   0.2s\n",
      "[CV] END max_depth=None, max_features=1.0, min_samples_leaf=1, min_samples_split=5, n_estimators=200; total time=   0.3s\n",
      "[CV] END max_depth=10, max_features=1.0, min_samples_leaf=4, min_samples_split=10, n_estimators=100; total time=   0.1s\n",
      "[CV] END max_depth=None, max_features=sqrt, min_samples_leaf=4, min_samples_split=2, n_estimators=300; total time=   0.4s\n",
      "[CV] END max_depth=10, max_features=1.0, min_samples_leaf=1, min_samples_split=5, n_estimators=100; total time=   0.2s\n",
      "[CV] END max_depth=None, max_features=1.0, min_samples_leaf=2, min_samples_split=10, n_estimators=100; total time=   0.2s\n",
      "[CV] END max_depth=10, max_features=sqrt, min_samples_leaf=1, min_samples_split=10, n_estimators=100; total time=   0.1s\n",
      "[CV] END max_depth=30, max_features=1.0, min_samples_leaf=2, min_samples_split=2, n_estimators=100; total time=   0.3s\n",
      "[CV] END max_depth=10, max_features=sqrt, min_samples_leaf=1, min_samples_split=5, n_estimators=200; total time=   0.4s\n",
      "[CV] END max_depth=10, max_features=1.0, min_samples_leaf=1, min_samples_split=10, n_estimators=100; total time=   0.2s\n",
      "[CV] END max_depth=10, max_features=sqrt, min_samples_leaf=1, min_samples_split=10, n_estimators=200; total time=   0.4s\n",
      "[CV] END max_depth=30, max_features=sqrt, min_samples_leaf=2, min_samples_split=2, n_estimators=300; total time=   0.5s\n",
      "[CV] END max_depth=10, max_features=1.0, min_samples_leaf=4, min_samples_split=10, n_estimators=100; total time=   0.1s\n",
      "[CV] END max_depth=20, max_features=sqrt, min_samples_leaf=1, min_samples_split=10, n_estimators=50; total time=   0.1s\n",
      "[CV] END max_depth=None, max_features=sqrt, min_samples_leaf=4, min_samples_split=2, n_estimators=300; total time=   0.4s\n",
      "[CV] END max_depth=10, max_features=1.0, min_samples_leaf=1, min_samples_split=5, n_estimators=100; total time=   0.2s\n",
      "[CV] END max_depth=20, max_features=1.0, min_samples_leaf=1, min_samples_split=2, n_estimators=300; total time=   0.6s\n",
      "[CV] END max_depth=10, max_features=sqrt, min_samples_leaf=1, min_samples_split=10, n_estimators=100; total time=   0.2s\n",
      "[CV] END max_depth=None, max_features=sqrt, min_samples_leaf=1, min_samples_split=5, n_estimators=50; total time=   0.1s\n",
      "[CV] END max_depth=None, max_features=sqrt, min_samples_leaf=1, min_samples_split=5, n_estimators=50; total time=   0.1s\n",
      "[CV] END max_depth=30, max_features=sqrt, min_samples_leaf=1, min_samples_split=2, n_estimators=100; total time=   0.3s\n",
      "[CV] END max_depth=10, max_features=1.0, min_samples_leaf=1, min_samples_split=10, n_estimators=100; total time=   0.1s\n",
      "[CV] END max_depth=10, max_features=sqrt, min_samples_leaf=1, min_samples_split=10, n_estimators=200; total time=   0.4s\n",
      "[CV] END max_depth=30, max_features=sqrt, min_samples_leaf=2, min_samples_split=2, n_estimators=300; total time=   0.4s\n",
      "[CV] END max_depth=None, max_features=1.0, min_samples_leaf=1, min_samples_split=5, n_estimators=200; total time=   0.3s\n",
      "[CV] END max_depth=10, max_features=sqrt, min_samples_leaf=2, min_samples_split=10, n_estimators=50; total time=   0.1s\n",
      "[CV] END max_depth=None, max_features=1.0, min_samples_leaf=1, min_samples_split=2, n_estimators=50; total time=   0.1s\n",
      "[CV] END max_depth=None, max_features=1.0, min_samples_leaf=1, min_samples_split=2, n_estimators=50; total time=   0.1s\n",
      "[CV] END max_depth=None, max_features=1.0, min_samples_leaf=1, min_samples_split=10, n_estimators=50; total time=   0.1s\n",
      "[CV] END max_depth=None, max_features=1.0, min_samples_leaf=1, min_samples_split=10, n_estimators=50; total time=   0.1s\n",
      "[CV] END max_depth=20, max_features=1.0, min_samples_leaf=1, min_samples_split=2, n_estimators=300; total time=   0.6s\n",
      "[CV] END max_depth=10, max_features=sqrt, min_samples_leaf=1, min_samples_split=10, n_estimators=100; total time=   0.2s\n",
      "[CV] END max_depth=None, max_features=sqrt, min_samples_leaf=1, min_samples_split=5, n_estimators=50; total time=   0.1s\n",
      "[CV] END max_depth=10, max_features=sqrt, min_samples_leaf=1, min_samples_split=5, n_estimators=200; total time=   0.4s\n",
      "[CV] END max_depth=30, max_features=sqrt, min_samples_leaf=1, min_samples_split=2, n_estimators=100; total time=   0.3s\n",
      "[CV] END max_depth=30, max_features=1.0, min_samples_leaf=4, min_samples_split=5, n_estimators=50; total time=   0.2s\n",
      "[CV] END max_depth=30, max_features=1.0, min_samples_leaf=4, min_samples_split=5, n_estimators=50; total time=   0.1s\n",
      "[CV] END max_depth=20, max_features=1.0, min_samples_leaf=1, min_samples_split=5, n_estimators=100; total time=   0.2s\n",
      "[CV] END max_depth=None, max_features=1.0, min_samples_leaf=1, min_samples_split=5, n_estimators=200; total time=   0.3s\n",
      "[CV] END max_depth=10, max_features=1.0, min_samples_leaf=4, min_samples_split=10, n_estimators=100; total time=   0.1s\n",
      "[CV] END max_depth=20, max_features=sqrt, min_samples_leaf=1, min_samples_split=10, n_estimators=50; total time=   0.1s\n",
      "[CV] END max_depth=10, max_features=sqrt, min_samples_leaf=2, min_samples_split=10, n_estimators=50; total time=   0.1s\n",
      "[CV] END max_depth=10, max_features=sqrt, min_samples_leaf=2, min_samples_split=10, n_estimators=50; total time=   0.1s\n",
      "[CV] END max_depth=None, max_features=1.0, min_samples_leaf=1, min_samples_split=2, n_estimators=50; total time=   0.1s\n",
      "[CV] END max_depth=None, max_features=1.0, min_samples_leaf=1, min_samples_split=2, n_estimators=50; total time=   0.1s\n",
      "[CV] END max_depth=None, max_features=1.0, min_samples_leaf=1, min_samples_split=10, n_estimators=50; total time=   0.1s\n",
      "[CV] END max_depth=None, max_features=1.0, min_samples_leaf=1, min_samples_split=10, n_estimators=50; total time=   0.2s\n",
      "[CV] END max_depth=20, max_features=1.0, min_samples_leaf=1, min_samples_split=2, n_estimators=300; total time=   0.5s\n",
      "[CV] END max_depth=10, max_features=sqrt, min_samples_leaf=1, min_samples_split=10, n_estimators=100; total time=   0.2s\n",
      "[CV] END max_depth=30, max_features=1.0, min_samples_leaf=2, min_samples_split=2, n_estimators=100; total time=   0.2s\n",
      "[CV] END max_depth=30, max_features=sqrt, min_samples_leaf=1, min_samples_split=2, n_estimators=100; total time=   0.3s\n",
      "[CV] END max_depth=30, max_features=sqrt, min_samples_leaf=1, min_samples_split=2, n_estimators=100; total time=   0.2s\n",
      "[CV] END max_depth=10, max_features=sqrt, min_samples_leaf=1, min_samples_split=10, n_estimators=200; total time=   0.4s\n",
      "[CV] END max_depth=30, max_features=sqrt, min_samples_leaf=2, min_samples_split=2, n_estimators=300; total time=   0.4s\n",
      "[CV] END max_depth=10, max_features=1.0, min_samples_leaf=4, min_samples_split=10, n_estimators=100; total time=   0.1s\n",
      "[CV] END max_depth=20, max_features=sqrt, min_samples_leaf=1, min_samples_split=10, n_estimators=50; total time=   0.1s\n",
      "[CV] END max_depth=None, max_features=sqrt, min_samples_leaf=4, min_samples_split=2, n_estimators=300; total time=   0.4s\n",
      "[CV] END max_depth=None, max_features=1.0, min_samples_leaf=1, min_samples_split=10, n_estimators=50; total time=   0.1s\n",
      "[CV] END max_depth=None, max_features=1.0, min_samples_leaf=2, min_samples_split=10, n_estimators=100; total time=   0.1s\n",
      "[CV] END max_depth=20, max_features=1.0, min_samples_leaf=1, min_samples_split=2, n_estimators=300; total time=   0.5s\n",
      "[CV] END max_depth=30, max_features=1.0, min_samples_leaf=2, min_samples_split=2, n_estimators=100; total time=   0.3s\n",
      "[CV] END max_depth=None, max_features=sqrt, min_samples_leaf=1, min_samples_split=5, n_estimators=50; total time=   0.1s\n",
      "[CV] END max_depth=10, max_features=sqrt, min_samples_leaf=1, min_samples_split=5, n_estimators=200; total time=   0.4s\n",
      "[CV] END max_depth=10, max_features=1.0, min_samples_leaf=1, min_samples_split=10, n_estimators=100; total time=   0.2s\n",
      "[CV] END max_depth=30, max_features=1.0, min_samples_leaf=4, min_samples_split=5, n_estimators=50; total time=   0.2s\n",
      "[CV] END max_depth=30, max_features=1.0, min_samples_leaf=4, min_samples_split=5, n_estimators=50; total time=   0.1s\n",
      "[CV] END max_depth=20, max_features=1.0, min_samples_leaf=1, min_samples_split=5, n_estimators=100; total time=   0.2s\n",
      "[CV] END max_depth=None, max_features=1.0, min_samples_leaf=1, min_samples_split=5, n_estimators=200; total time=   0.3s\n",
      "[CV] END max_depth=10, max_features=1.0, min_samples_leaf=4, min_samples_split=10, n_estimators=100; total time=   0.1s\n",
      "[CV] END max_depth=None, max_features=sqrt, min_samples_leaf=4, min_samples_split=2, n_estimators=300; total time=   0.4s\n",
      "[CV] END max_depth=10, max_features=1.0, min_samples_leaf=1, min_samples_split=5, n_estimators=100; total time=   0.2s\n",
      "[CV] END max_depth=None, max_features=1.0, min_samples_leaf=2, min_samples_split=10, n_estimators=100; total time=   0.2s\n",
      "[CV] END max_depth=30, max_features=1.0, min_samples_leaf=2, min_samples_split=2, n_estimators=100; total time=   0.2s\n",
      "[CV] END max_depth=30, max_features=sqrt, min_samples_leaf=1, min_samples_split=2, n_estimators=100; total time=   0.2s\n",
      "[CV] END max_depth=10, max_features=1.0, min_samples_leaf=1, min_samples_split=10, n_estimators=100; total time=   0.2s\n",
      "[CV] END max_depth=30, max_features=1.0, min_samples_leaf=4, min_samples_split=5, n_estimators=50; total time=   0.2s\n",
      "[CV] END max_depth=20, max_features=1.0, min_samples_leaf=1, min_samples_split=5, n_estimators=100; total time=   0.3s\n",
      "[CV] END max_depth=30, max_features=sqrt, min_samples_leaf=2, min_samples_split=2, n_estimators=300; total time=   0.3s\n",
      "[CV] END max_depth=None, max_features=1.0, min_samples_leaf=1, min_samples_split=5, n_estimators=200; total time=   0.3s\n",
      "[CV] END max_depth=10, max_features=sqrt, min_samples_leaf=2, min_samples_split=10, n_estimators=50; total time=   0.1s\n",
      "[CV] END max_depth=10, max_features=sqrt, min_samples_leaf=2, min_samples_split=10, n_estimators=50; total time=   0.1s\n",
      "[CV] END max_depth=None, max_features=1.0, min_samples_leaf=1, min_samples_split=2, n_estimators=50; total time=   0.1s\n",
      "[CV] END max_depth=10, max_features=1.0, min_samples_leaf=1, min_samples_split=5, n_estimators=100; total time=   0.2s\n",
      "[CV] END max_depth=None, max_features=1.0, min_samples_leaf=2, min_samples_split=10, n_estimators=100; total time=   0.1s\n",
      "[CV] END max_depth=20, max_features=1.0, min_samples_leaf=1, min_samples_split=2, n_estimators=300; total time=   0.5s\n"
     ]
    },
    {
     "name": "stdout",
     "output_type": "stream",
     "text": [
      "[CV] END max_depth=30, max_features=1.0, min_samples_leaf=2, min_samples_split=2, n_estimators=100; total time=   0.3s\n",
      "[CV] END max_depth=10, max_features=sqrt, min_samples_leaf=1, min_samples_split=5, n_estimators=200; total time=   0.4s\n",
      "[CV] END max_depth=10, max_features=1.0, min_samples_leaf=1, min_samples_split=10, n_estimators=100; total time=   0.2s\n",
      "[CV] END max_depth=10, max_features=sqrt, min_samples_leaf=1, min_samples_split=10, n_estimators=200; total time=   0.3s\n",
      "[CV] END max_depth=20, max_features=1.0, min_samples_leaf=1, min_samples_split=5, n_estimators=100; total time=   0.2s\n",
      "[CV] END max_depth=30, max_features=sqrt, min_samples_leaf=2, min_samples_split=2, n_estimators=300; total time=   0.4s\n",
      "[CV] END max_depth=20, max_features=sqrt, min_samples_leaf=1, min_samples_split=10, n_estimators=50; total time=   0.1s\n",
      "[CV] END max_depth=20, max_features=sqrt, min_samples_leaf=1, min_samples_split=10, n_estimators=50; total time=   0.1s\n",
      "[CV] END max_depth=None, max_features=sqrt, min_samples_leaf=4, min_samples_split=2, n_estimators=300; total time=   0.3s\n",
      "[CV] END max_depth=10, max_features=1.0, min_samples_leaf=1, min_samples_split=5, n_estimators=100; total time=   0.1s\n",
      "[CV] END max_depth=None, max_features=1.0, min_samples_leaf=2, min_samples_split=10, n_estimators=100; total time=   0.3s\n"
     ]
    }
   ],
   "source": [
    "gbr_optimized = GradientBoostingRegressor(\n",
    "    learning_rate=0.176,\n",
    "    max_depth=3,\n",
    "    n_estimators=215,\n",
    "    random_state=42\n",
    ")\n",
    "\n",
    "gbr_optimized.fit(X_train, y_train)\n",
    "y_pred_opt = gbr_optimized.predict(X_test)\n",
    "\n",
    "# Evaluation metrics\n",
    "mae = mean_absolute_error(y_test, y_pred_opt)\n",
    "mse = mean_squared_error(y_test, y_pred_opt)\n",
    "rmse = np.sqrt(mse)\n",
    "r2 = r2_score(y_test, y_pred_opt)\n",
    "\n",
    "print(\"📊 Optimized Gradient Boosting Regressor Performance:\")\n",
    "print(f\"Mean Absolute Error (MAE): {mae:.4f}\")\n",
    "print(f\"Mean Squared Error (MSE): {mse:.4f}\")\n",
    "print(f\"Root Mean Squared Error (RMSE): {rmse:.4f}\")\n",
    "print(f\"R² Score: {r2:.4f}\")"
   ]
  },
  {
   "cell_type": "code",
   "execution_count": null,
   "id": "59a87e84",
   "metadata": {},
   "outputs": [],
   "source": []
  }
 ],
 "metadata": {
  "kernelspec": {
   "display_name": "Python 3 (ipykernel)",
   "language": "python",
   "name": "python3"
  },
  "language_info": {
   "codemirror_mode": {
    "name": "ipython",
    "version": 3
   },
   "file_extension": ".py",
   "mimetype": "text/x-python",
   "name": "python",
   "nbconvert_exporter": "python",
   "pygments_lexer": "ipython3",
   "version": "3.9.13"
  }
 },
 "nbformat": 4,
 "nbformat_minor": 5
}
