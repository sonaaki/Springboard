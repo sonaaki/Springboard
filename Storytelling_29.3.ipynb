{
 "cells": [
  {
   "cell_type": "markdown",
   "id": "c8f1f8a4",
   "metadata": {},
   "source": [
    "# 🧠 What the Data Says About the American Dream  \n",
    "**Audience:** Non-technical — policy makers and business leaders  \n",
    "**Goal:** Reveal what factors help (or hinder) Americans from earning more than $50,000 per year  \n",
    "**Tone:** Clear, compelling, and insight-driven  \n",
    "\n",
    "---\n",
    "\n",
    "## 🎬 1. Setting the Scene\n",
    "\n",
    "Imagine two Americans. Both are 29 years old.  \n",
    "One has a high school diploma and works full-time.  \n",
    "The other has a college degree and a job in a professional field.  \n",
    "\n",
    "**Who is more likely to earn over $50,000 per year?**  \n",
    "We might guess the answer — but can we *prove* it?\n",
    "\n",
    "With a dataset of over **45,000 Americans**, collected by the **U.S. Census**, we explored what really determines whether someone crosses that $50K income line.\n",
    "\n",
    "This data includes:\n",
    "- Age, gender, education, race\n",
    "- Weekly hours worked\n",
    "- Job types\n",
    "- Income category (above or below $50K)\n",
    "\n",
    "Every row in the dataset tells a small part of a bigger story.\n",
    "\n",
    "---\n",
    "\n",
    "## 🔍 2. What We Discovered\n",
    "\n",
    "### ✅ Education Pays — But It’s Not the Whole Story\n",
    "\n",
    "- **70% of those earning over** \\$50K have **some college education or higher**\n",
    "- However, **some with only a high school diploma** still earn > \\$50K — often in **skilled trades** or **entrepreneurship**\n",
    "\n",
    "**Policy Implication:** Education is vital — but we must also recognize and support alternative pathways to success.\n",
    "\n",
    "---\n",
    "\n",
    "### ⏱ Hours Worked Matter — To a Point\n",
    "\n",
    "- High earners often work **45–60 hours/week**\n",
    "- But **more hours ≠ higher pay** — many working long hours in **service roles** still earn under $50K\n",
    "\n",
    "**Insight:** **Job quality** matters more than just time worked.\n",
    "\n",
    "---\n",
    "\n",
    "### 🧑🏾‍🤝‍🧑🏻 Race and Gender Gaps Persist — Even with Equal Qualifications\n",
    "\n",
    "- **Men** are more likely to earn >$50K than women\n",
    "- **White and Asian** individuals dominate the high-income bracket\n",
    "- **Black and Hispanic** individuals are overrepresented in lower income brackets\n",
    "\n",
    "**Call to Action:** Equal education and effort don’t guarantee equal outcomes. There are **structural barriers** we need to address.\n",
    "\n",
    "---\n",
    "\n",
    "### 💼 Occupation is Destiny\n",
    "\n",
    "Your **job title** may be more predictive than your **education level**:\n",
    "\n",
    "- “**Exec-managerial**” and “**Prof-specialty**” jobs make up the bulk of >\\$50K earners\n",
    "- “**Service**,” “**farming**,” and “**labor**” roles almost always fall below \\$50K — regardless of education or hours\n",
    "\n",
    "**Conclusion:** Without access to **high-paying professions**, the American Dream remains out of reach for many.\n",
    "\n",
    "---\n",
    "\n",
    "## 📈 3. What This Means for Policy & Leadership\n",
    "\n",
    "The data points to a key truth:\n",
    "\n",
    "> **The path to upward mobility is about more than education or effort. It’s about access and equity.**\n",
    "\n",
    "If we want more Americans to reach the $50K+ income level, we must:\n",
    "- Expand **career pipelines** into professional and managerial jobs\n",
    "- Support **affordable education** *and* skilled trades\n",
    "- Eliminate **bias and structural barriers** in hiring and pay\n",
    "- Rethink how we value labor — especially in essential but low-paying roles\n",
    "\n",
    "---\n",
    "\n",
    "## 💬 4. Final Thought\n",
    "\n",
    "This isn’t just income data — it’s a reflection of **opportunity in America**.\n",
    "\n",
    "> *The American Dream is still alive — but many are locked out by invisible walls.  \n",
    "It’s not just about how hard you work — it’s about whether the system lets you win.*  \n"
   ]
  },
  {
   "cell_type": "code",
   "execution_count": 2,
   "id": "41c53cdd",
   "metadata": {},
   "outputs": [],
   "source": [
    "import pandas as pd\n",
    "import numpy as np"
   ]
  },
  {
   "cell_type": "code",
   "execution_count": 5,
   "id": "3cebc6e6",
   "metadata": {},
   "outputs": [],
   "source": [
    "df = pd.read_csv('adult.csv')"
   ]
  },
  {
   "cell_type": "code",
   "execution_count": 8,
   "id": "b3432e3f",
   "metadata": {},
   "outputs": [
    {
     "data": {
      "text/html": [
       "<div>\n",
       "<style scoped>\n",
       "    .dataframe tbody tr th:only-of-type {\n",
       "        vertical-align: middle;\n",
       "    }\n",
       "\n",
       "    .dataframe tbody tr th {\n",
       "        vertical-align: top;\n",
       "    }\n",
       "\n",
       "    .dataframe thead th {\n",
       "        text-align: right;\n",
       "    }\n",
       "</style>\n",
       "<table border=\"1\" class=\"dataframe\">\n",
       "  <thead>\n",
       "    <tr style=\"text-align: right;\">\n",
       "      <th></th>\n",
       "      <th>age</th>\n",
       "      <th>workclass</th>\n",
       "      <th>fnlwgt</th>\n",
       "      <th>education</th>\n",
       "      <th>educational-num</th>\n",
       "      <th>marital-status</th>\n",
       "      <th>occupation</th>\n",
       "      <th>relationship</th>\n",
       "      <th>race</th>\n",
       "      <th>gender</th>\n",
       "      <th>capital-gain</th>\n",
       "      <th>capital-loss</th>\n",
       "      <th>hours-per-week</th>\n",
       "      <th>native-country</th>\n",
       "      <th>income</th>\n",
       "    </tr>\n",
       "  </thead>\n",
       "  <tbody>\n",
       "    <tr>\n",
       "      <th>0</th>\n",
       "      <td>25</td>\n",
       "      <td>Private</td>\n",
       "      <td>226802</td>\n",
       "      <td>11th</td>\n",
       "      <td>7</td>\n",
       "      <td>Never-married</td>\n",
       "      <td>Machine-op-inspct</td>\n",
       "      <td>Own-child</td>\n",
       "      <td>Black</td>\n",
       "      <td>Male</td>\n",
       "      <td>0</td>\n",
       "      <td>0</td>\n",
       "      <td>40</td>\n",
       "      <td>United-States</td>\n",
       "      <td>&lt;=50K</td>\n",
       "    </tr>\n",
       "    <tr>\n",
       "      <th>1</th>\n",
       "      <td>38</td>\n",
       "      <td>Private</td>\n",
       "      <td>89814</td>\n",
       "      <td>HS-grad</td>\n",
       "      <td>9</td>\n",
       "      <td>Married-civ-spouse</td>\n",
       "      <td>Farming-fishing</td>\n",
       "      <td>Husband</td>\n",
       "      <td>White</td>\n",
       "      <td>Male</td>\n",
       "      <td>0</td>\n",
       "      <td>0</td>\n",
       "      <td>50</td>\n",
       "      <td>United-States</td>\n",
       "      <td>&lt;=50K</td>\n",
       "    </tr>\n",
       "    <tr>\n",
       "      <th>2</th>\n",
       "      <td>28</td>\n",
       "      <td>Local-gov</td>\n",
       "      <td>336951</td>\n",
       "      <td>Assoc-acdm</td>\n",
       "      <td>12</td>\n",
       "      <td>Married-civ-spouse</td>\n",
       "      <td>Protective-serv</td>\n",
       "      <td>Husband</td>\n",
       "      <td>White</td>\n",
       "      <td>Male</td>\n",
       "      <td>0</td>\n",
       "      <td>0</td>\n",
       "      <td>40</td>\n",
       "      <td>United-States</td>\n",
       "      <td>&gt;50K</td>\n",
       "    </tr>\n",
       "    <tr>\n",
       "      <th>3</th>\n",
       "      <td>44</td>\n",
       "      <td>Private</td>\n",
       "      <td>160323</td>\n",
       "      <td>Some-college</td>\n",
       "      <td>10</td>\n",
       "      <td>Married-civ-spouse</td>\n",
       "      <td>Machine-op-inspct</td>\n",
       "      <td>Husband</td>\n",
       "      <td>Black</td>\n",
       "      <td>Male</td>\n",
       "      <td>7688</td>\n",
       "      <td>0</td>\n",
       "      <td>40</td>\n",
       "      <td>United-States</td>\n",
       "      <td>&gt;50K</td>\n",
       "    </tr>\n",
       "    <tr>\n",
       "      <th>4</th>\n",
       "      <td>18</td>\n",
       "      <td>?</td>\n",
       "      <td>103497</td>\n",
       "      <td>Some-college</td>\n",
       "      <td>10</td>\n",
       "      <td>Never-married</td>\n",
       "      <td>?</td>\n",
       "      <td>Own-child</td>\n",
       "      <td>White</td>\n",
       "      <td>Female</td>\n",
       "      <td>0</td>\n",
       "      <td>0</td>\n",
       "      <td>30</td>\n",
       "      <td>United-States</td>\n",
       "      <td>&lt;=50K</td>\n",
       "    </tr>\n",
       "  </tbody>\n",
       "</table>\n",
       "</div>"
      ],
      "text/plain": [
       "   age  workclass  fnlwgt     education  educational-num      marital-status  \\\n",
       "0   25    Private  226802          11th                7       Never-married   \n",
       "1   38    Private   89814       HS-grad                9  Married-civ-spouse   \n",
       "2   28  Local-gov  336951    Assoc-acdm               12  Married-civ-spouse   \n",
       "3   44    Private  160323  Some-college               10  Married-civ-spouse   \n",
       "4   18          ?  103497  Some-college               10       Never-married   \n",
       "\n",
       "          occupation relationship   race  gender  capital-gain  capital-loss  \\\n",
       "0  Machine-op-inspct    Own-child  Black    Male             0             0   \n",
       "1    Farming-fishing      Husband  White    Male             0             0   \n",
       "2    Protective-serv      Husband  White    Male             0             0   \n",
       "3  Machine-op-inspct      Husband  Black    Male          7688             0   \n",
       "4                  ?    Own-child  White  Female             0             0   \n",
       "\n",
       "   hours-per-week native-country income  \n",
       "0              40  United-States  <=50K  \n",
       "1              50  United-States  <=50K  \n",
       "2              40  United-States   >50K  \n",
       "3              40  United-States   >50K  \n",
       "4              30  United-States  <=50K  "
      ]
     },
     "execution_count": 8,
     "metadata": {},
     "output_type": "execute_result"
    }
   ],
   "source": [
    "df.head(5)"
   ]
  },
  {
   "cell_type": "code",
   "execution_count": 12,
   "id": "8aafee64",
   "metadata": {},
   "outputs": [
    {
     "data": {
      "text/plain": [
       "(48842, 15)"
      ]
     },
     "execution_count": 12,
     "metadata": {},
     "output_type": "execute_result"
    }
   ],
   "source": [
    "df.shape"
   ]
  },
  {
   "cell_type": "code",
   "execution_count": 13,
   "id": "f6f2a9c0",
   "metadata": {},
   "outputs": [
    {
     "name": "stdout",
     "output_type": "stream",
     "text": [
      "<class 'pandas.core.frame.DataFrame'>\n",
      "RangeIndex: 48842 entries, 0 to 48841\n",
      "Data columns (total 15 columns):\n",
      " #   Column           Non-Null Count  Dtype \n",
      "---  ------           --------------  ----- \n",
      " 0   age              48842 non-null  int64 \n",
      " 1   workclass        48842 non-null  object\n",
      " 2   fnlwgt           48842 non-null  int64 \n",
      " 3   education        48842 non-null  object\n",
      " 4   educational-num  48842 non-null  int64 \n",
      " 5   marital-status   48842 non-null  object\n",
      " 6   occupation       48842 non-null  object\n",
      " 7   relationship     48842 non-null  object\n",
      " 8   race             48842 non-null  object\n",
      " 9   gender           48842 non-null  object\n",
      " 10  capital-gain     48842 non-null  int64 \n",
      " 11  capital-loss     48842 non-null  int64 \n",
      " 12  hours-per-week   48842 non-null  int64 \n",
      " 13  native-country   48842 non-null  object\n",
      " 14  income           48842 non-null  object\n",
      "dtypes: int64(6), object(9)\n",
      "memory usage: 5.6+ MB\n"
     ]
    }
   ],
   "source": [
    "df.info()"
   ]
  },
  {
   "cell_type": "code",
   "execution_count": 15,
   "id": "a64d81b3",
   "metadata": {},
   "outputs": [
    {
     "data": {
      "text/plain": [
       "array(['11th', 'HS-grad', 'Assoc-acdm', 'Some-college', '10th',\n",
       "       'Prof-school', '7th-8th', 'Bachelors', 'Masters', 'Doctorate',\n",
       "       '5th-6th', 'Assoc-voc', '9th', '12th', '1st-4th', 'Preschool'],\n",
       "      dtype=object)"
      ]
     },
     "execution_count": 15,
     "metadata": {},
     "output_type": "execute_result"
    }
   ],
   "source": [
    "df['education'].unique()"
   ]
  },
  {
   "cell_type": "code",
   "execution_count": 18,
   "id": "76fe55cd",
   "metadata": {},
   "outputs": [
    {
     "data": {
      "text/plain": [
       "array(['<=50K', '>50K'], dtype=object)"
      ]
     },
     "execution_count": 18,
     "metadata": {},
     "output_type": "execute_result"
    }
   ],
   "source": [
    "df['income'].unique()"
   ]
  },
  {
   "cell_type": "code",
   "execution_count": 21,
   "id": "aef3b512",
   "metadata": {},
   "outputs": [
    {
     "name": "stdout",
     "output_type": "stream",
     "text": [
      "Percentage of individuals with income >50K: 23.93%\n"
     ]
    }
   ],
   "source": [
    "# 1. Count the total number of individuals in the dataset\n",
    "total_individuals = len(df)\n",
    "\n",
    "# 2. Filter the DataFrame to include only those with income <=50K\n",
    "more_than_50k = df[df['income'] == '>50K']\n",
    "\n",
    "# 3. Count the number of individuals earning >50K\n",
    "count_more_than_50k = len(more_than_50k)\n",
    "\n",
    "# 4. Calculate the percentage\n",
    "percentage_more_than_50k = (count_more_than_50k / total_individuals) * 100\n",
    "\n",
    "# 5. Print the result\n",
    "print(f\"Percentage of individuals with income >50K: {percentage_more_than_50k:.2f}%\")"
   ]
  },
  {
   "cell_type": "code",
   "execution_count": 25,
   "id": "6f0c2236",
   "metadata": {},
   "outputs": [
    {
     "name": "stdout",
     "output_type": "stream",
     "text": [
      "Percentage of individuals with income >50K, grouped by education:\n",
      "education\n",
      "10th             6.263499\n",
      "11th             5.077263\n",
      "12th             7.305936\n",
      "1st-4th          3.238866\n",
      "5th-6th          5.304519\n",
      "7th-8th          6.492147\n",
      "9th              5.423280\n",
      "Assoc-acdm      25.796377\n",
      "Assoc-voc       25.327511\n",
      "Bachelors       41.283489\n",
      "Doctorate       72.558923\n",
      "HS-grad         15.857831\n",
      "Masters         54.911554\n",
      "Preschool        1.204819\n",
      "Prof-school     73.980815\n",
      "Some-college    18.964883\n",
      "dtype: float64\n"
     ]
    }
   ],
   "source": [
    "# 1. Group the DataFrame by the 'education' column\n",
    "grouped_by_education = df.groupby('education')\n",
    "\n",
    "# 2. Calculate the count of each income category within each education group\n",
    "income_counts = grouped_by_education['income'].value_counts()\n",
    "\n",
    "# 3. Calculate the total count of individuals in each education group\n",
    "total_counts = grouped_by_education['income'].count()\n",
    "\n",
    "# 4. Calculate the percentage of '<=50K' income for each education group\n",
    "percentage_more_than_50k_ed = (income_counts.unstack(fill_value=0)['>50K'] / total_counts) * 100\n",
    "\n",
    "# 5. Print the result\n",
    "print(\"Percentage of individuals with income >50K, grouped by education:\")\n",
    "print(percentage_more_than_50k_ed)"
   ]
  },
  {
   "cell_type": "code",
   "execution_count": 26,
   "id": "27844338",
   "metadata": {},
   "outputs": [
    {
     "name": "stdout",
     "output_type": "stream",
     "text": [
      "Bachelors       6.783097\n",
      "HS-grad         5.124688\n",
      "Some-college    4.223824\n",
      "Masters         2.987183\n",
      "Prof-school     1.263257\n",
      "Assoc-voc       1.068752\n",
      "Doctorate       0.882437\n",
      "Assoc-acdm      0.845584\n",
      "11th            0.188362\n",
      "10th            0.178125\n",
      "7th-8th         0.126940\n",
      "12th            0.098276\n",
      "9th             0.083944\n",
      "5th-6th         0.055280\n",
      "1st-4th         0.016379\n",
      "Preschool       0.002047\n",
      "Name: education, dtype: float64\n"
     ]
    }
   ],
   "source": [
    "# Calculate the number of individuals with income '>50K' for each education level\n",
    "greater_than_50k_by_education = df[df['income'] == '>50K']['education'].value_counts()\n",
    "\n",
    "# Calculate the total number of individuals for each education level\n",
    "total_by_education = df['education'].value_counts()\n",
    "\n",
    "# Calculate the percentage of individuals with income '>50K' for each education level\n",
    "percentage_greater_than_50k = (greater_than_50k_by_education / total_individuals) * 100\n",
    "\n",
    "# Sort the results in descending order\n",
    "percentage_greater_than_50k_sorted = percentage_greater_than_50k.sort_values(ascending=False)\n",
    "\n",
    "# Print the result\n",
    "print(percentage_greater_than_50k_sorted)"
   ]
  },
  {
   "cell_type": "code",
   "execution_count": 28,
   "id": "238206c0",
   "metadata": {},
   "outputs": [
    {
     "name": "stdout",
     "output_type": "stream",
     "text": [
      "Asian-Pac-Islander    26.925609\n",
      "White                 25.398688\n",
      "Other                 12.315271\n",
      "Black                 12.081110\n",
      "Amer-Indian-Eskimo    11.702128\n",
      "Name: race, dtype: float64\n"
     ]
    }
   ],
   "source": [
    "# Calculate the number of individuals with income '>50K' for each race\n",
    "greater_than_50k_by_race = df[df['income'] == '>50K']['race'].value_counts()\n",
    "\n",
    "# Calculate the total number of individuals for each race\n",
    "total_by_race = df['race'].value_counts()\n",
    "\n",
    "# Calculate the percentage of individuals with income '>50K' for each race\n",
    "percentage_greater_than_50k_race = (greater_than_50k_by_race / total_by_race) * 100\n",
    "\n",
    "# Sort the results in descending order (optional, but often useful)\n",
    "percentage_greater_than_50k_race_sorted = percentage_greater_than_50k_race.sort_values(ascending=False)\n",
    "\n",
    "# Print the result\n",
    "print(percentage_greater_than_50k_race_sorted)"
   ]
  },
  {
   "cell_type": "code",
   "execution_count": 29,
   "id": "e5b5050f",
   "metadata": {},
   "outputs": [
    {
     "name": "stdout",
     "output_type": "stream",
     "text": [
      "Male      30.376723\n",
      "Female    10.925148\n",
      "Name: gender, dtype: float64\n"
     ]
    }
   ],
   "source": [
    "# Calculate the number of individuals with income '>50K' for each gender\n",
    "greater_than_50k_by_gender = df[df['income'] == '>50K']['gender'].value_counts()\n",
    "\n",
    "# Calculate the total number of individuals for each gender\n",
    "total_by_gender = df['gender'].value_counts()\n",
    "\n",
    "# Calculate the percentage of individuals with income '>50K' for each gender\n",
    "percentage_greater_than_50k_gender = (greater_than_50k_by_gender / total_by_gender) * 100\n",
    "\n",
    "# Sort the results in descending order (optional, but often useful)\n",
    "percentage_greater_than_50k_gender_sorted = percentage_greater_than_50k_gender.sort_values(ascending=False)\n",
    "\n",
    "# Print the result\n",
    "print(percentage_greater_than_50k_gender_sorted)"
   ]
  },
  {
   "cell_type": "code",
   "execution_count": null,
   "id": "31629b3f",
   "metadata": {},
   "outputs": [],
   "source": []
  }
 ],
 "metadata": {
  "kernelspec": {
   "display_name": "Python 3 (ipykernel)",
   "language": "python",
   "name": "python3"
  },
  "language_info": {
   "codemirror_mode": {
    "name": "ipython",
    "version": 3
   },
   "file_extension": ".py",
   "mimetype": "text/x-python",
   "name": "python",
   "nbconvert_exporter": "python",
   "pygments_lexer": "ipython3",
   "version": "3.9.13"
  }
 },
 "nbformat": 4,
 "nbformat_minor": 5
}
