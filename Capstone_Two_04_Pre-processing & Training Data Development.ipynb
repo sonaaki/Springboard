{
 "cells": [
  {
   "cell_type": "markdown",
   "id": "e849d013",
   "metadata": {},
   "source": [
    "# Capstone Two: Pre-processing & Training Data Development"
   ]
  },
  {
   "cell_type": "markdown",
   "id": "c16ba2ea",
   "metadata": {},
   "source": [
    "**Create dummy or indicator features for categorical variables**\n",
    "\n",
    "**Standardize the magnitude of numeric features using a scaler**\n",
    "\n",
    "**Split your data into testing and training datasets**"
   ]
  },
  {
   "cell_type": "code",
   "execution_count": 1,
   "id": "0ad6f65c",
   "metadata": {},
   "outputs": [],
   "source": [
    "import pandas as pd"
   ]
  },
  {
   "cell_type": "code",
   "execution_count": 2,
   "id": "797a72f5",
   "metadata": {},
   "outputs": [],
   "source": [
    "df = pd.read_csv('mental_data.csv')"
   ]
  },
  {
   "cell_type": "code",
   "execution_count": 3,
   "id": "94c14fe7",
   "metadata": {},
   "outputs": [
    {
     "data": {
      "text/html": [
       "<div>\n",
       "<style scoped>\n",
       "    .dataframe tbody tr th:only-of-type {\n",
       "        vertical-align: middle;\n",
       "    }\n",
       "\n",
       "    .dataframe tbody tr th {\n",
       "        vertical-align: top;\n",
       "    }\n",
       "\n",
       "    .dataframe thead th {\n",
       "        text-align: right;\n",
       "    }\n",
       "</style>\n",
       "<table border=\"1\" class=\"dataframe\">\n",
       "  <thead>\n",
       "    <tr style=\"text-align: right;\">\n",
       "      <th></th>\n",
       "      <th>YearStart</th>\n",
       "      <th>YearEnd</th>\n",
       "      <th>State</th>\n",
       "      <th>Data_Value</th>\n",
       "      <th>Low_Confidence_Limit</th>\n",
       "      <th>High_Confidence_Limit</th>\n",
       "      <th>Age_group</th>\n",
       "      <th>Stratification2</th>\n",
       "      <th>StratificationCategoryID2</th>\n",
       "    </tr>\n",
       "  </thead>\n",
       "  <tbody>\n",
       "    <tr>\n",
       "      <th>0</th>\n",
       "      <td>2022</td>\n",
       "      <td>2022</td>\n",
       "      <td>MD</td>\n",
       "      <td>9.0</td>\n",
       "      <td>6.5</td>\n",
       "      <td>12.3</td>\n",
       "      <td>65+</td>\n",
       "      <td>Black, non-Hispanic</td>\n",
       "      <td>RACE</td>\n",
       "    </tr>\n",
       "    <tr>\n",
       "      <th>1</th>\n",
       "      <td>2022</td>\n",
       "      <td>2022</td>\n",
       "      <td>WI</td>\n",
       "      <td>5.6</td>\n",
       "      <td>4.4</td>\n",
       "      <td>7.2</td>\n",
       "      <td>65+</td>\n",
       "      <td>Male</td>\n",
       "      <td>GENDER</td>\n",
       "    </tr>\n",
       "    <tr>\n",
       "      <th>2</th>\n",
       "      <td>2022</td>\n",
       "      <td>2022</td>\n",
       "      <td>OK</td>\n",
       "      <td>21.5</td>\n",
       "      <td>15.4</td>\n",
       "      <td>29.2</td>\n",
       "      <td>Overall</td>\n",
       "      <td>Native Am/Alaskan Native</td>\n",
       "      <td>RACE</td>\n",
       "    </tr>\n",
       "    <tr>\n",
       "      <th>3</th>\n",
       "      <td>2022</td>\n",
       "      <td>2022</td>\n",
       "      <td>PA</td>\n",
       "      <td>10.0</td>\n",
       "      <td>8.3</td>\n",
       "      <td>12.1</td>\n",
       "      <td>Overall</td>\n",
       "      <td>White, non-Hispanic</td>\n",
       "      <td>RACE</td>\n",
       "    </tr>\n",
       "    <tr>\n",
       "      <th>4</th>\n",
       "      <td>2016</td>\n",
       "      <td>2016</td>\n",
       "      <td>NH</td>\n",
       "      <td>10.4</td>\n",
       "      <td>8.6</td>\n",
       "      <td>12.6</td>\n",
       "      <td>50-64</td>\n",
       "      <td>Female</td>\n",
       "      <td>GENDER</td>\n",
       "    </tr>\n",
       "  </tbody>\n",
       "</table>\n",
       "</div>"
      ],
      "text/plain": [
       "   YearStart  YearEnd State  Data_Value  Low_Confidence_Limit  \\\n",
       "0       2022     2022    MD         9.0                   6.5   \n",
       "1       2022     2022    WI         5.6                   4.4   \n",
       "2       2022     2022    OK        21.5                  15.4   \n",
       "3       2022     2022    PA        10.0                   8.3   \n",
       "4       2016     2016    NH        10.4                   8.6   \n",
       "\n",
       "   High_Confidence_Limit Age_group           Stratification2  \\\n",
       "0                   12.3       65+       Black, non-Hispanic   \n",
       "1                    7.2       65+                      Male   \n",
       "2                   29.2   Overall  Native Am/Alaskan Native   \n",
       "3                   12.1   Overall       White, non-Hispanic   \n",
       "4                   12.6     50-64                    Female   \n",
       "\n",
       "  StratificationCategoryID2  \n",
       "0                      RACE  \n",
       "1                    GENDER  \n",
       "2                      RACE  \n",
       "3                      RACE  \n",
       "4                    GENDER  "
      ]
     },
     "execution_count": 3,
     "metadata": {},
     "output_type": "execute_result"
    }
   ],
   "source": [
    "df.head(5)"
   ]
  },
  {
   "cell_type": "code",
   "execution_count": 4,
   "id": "f7946cec",
   "metadata": {},
   "outputs": [
    {
     "name": "stdout",
     "output_type": "stream",
     "text": [
      "<class 'pandas.core.frame.DataFrame'>\n",
      "RangeIndex: 4778 entries, 0 to 4777\n",
      "Data columns (total 9 columns):\n",
      " #   Column                     Non-Null Count  Dtype  \n",
      "---  ------                     --------------  -----  \n",
      " 0   YearStart                  4778 non-null   int64  \n",
      " 1   YearEnd                    4778 non-null   int64  \n",
      " 2   State                      4681 non-null   object \n",
      " 3   Data_Value                 4778 non-null   float64\n",
      " 4   Low_Confidence_Limit       4778 non-null   float64\n",
      " 5   High_Confidence_Limit      4778 non-null   float64\n",
      " 6   Age_group                  4778 non-null   object \n",
      " 7   Stratification2            4778 non-null   object \n",
      " 8   StratificationCategoryID2  4778 non-null   object \n",
      "dtypes: float64(3), int64(2), object(4)\n",
      "memory usage: 336.1+ KB\n"
     ]
    }
   ],
   "source": [
    "df.info()"
   ]
  },
  {
   "cell_type": "code",
   "execution_count": 5,
   "id": "4c6a6cda",
   "metadata": {},
   "outputs": [],
   "source": [
    "import pandas as pd\n",
    "from sklearn.preprocessing import OneHotEncoder, StandardScaler\n",
    "from sklearn.model_selection import train_test_split\n",
    "\n",
    "# Drop rows with missing values\n",
    "df = df.dropna()  \n",
    "\n",
    "# One-hot encoding categorical features\n",
    "categorical_cols = ['State', 'Age_group', 'Stratification2', 'StratificationCategoryID2']\n",
    "df = pd.get_dummies(df, columns=categorical_cols, drop_first=True)"
   ]
  },
  {
   "cell_type": "code",
   "execution_count": 6,
   "id": "e5f797b8",
   "metadata": {},
   "outputs": [],
   "source": [
    "# Standardize numeric features\n",
    "numeric_cols = ['YearStart', 'YearEnd', 'Data_Value', 'Low_Confidence_Limit', 'High_Confidence_Limit']\n",
    "scaler = StandardScaler()\n",
    "df[numeric_cols] = scaler.fit_transform(df[numeric_cols])"
   ]
  },
  {
   "cell_type": "code",
   "execution_count": 7,
   "id": "8929b80a",
   "metadata": {},
   "outputs": [
    {
     "name": "stdout",
     "output_type": "stream",
     "text": [
      "Training data shape: (3744, 62)\n",
      "Testing data shape: (937, 62)\n"
     ]
    }
   ],
   "source": [
    "# Split into training and testing sets (80% train, 20% test)\n",
    "X = df.drop(columns=['Data_Value'])  # Features\n",
    "y = df['Data_Value']  # Target variable\n",
    "\n",
    "X_train, X_test, y_train, y_test = train_test_split(X, y, test_size=0.2, random_state=42)\n",
    "\n",
    "# Display dataset info\n",
    "print(\"Training data shape:\", X_train.shape)\n",
    "print(\"Testing data shape:\", X_test.shape)\n"
   ]
  },
  {
   "cell_type": "code",
   "execution_count": 9,
   "id": "7df39cc5",
   "metadata": {},
   "outputs": [
    {
     "data": {
      "text/plain": [
       "Index(['YearStart', 'YearEnd', 'Low_Confidence_Limit', 'High_Confidence_Limit',\n",
       "       'State_AL', 'State_AR', 'State_AZ', 'State_CA', 'State_CO', 'State_CT',\n",
       "       'State_DE', 'State_FL', 'State_GA', 'State_HI', 'State_IA', 'State_ID',\n",
       "       'State_IL', 'State_IN', 'State_KS', 'State_KY', 'State_LA', 'State_MA',\n",
       "       'State_MD', 'State_ME', 'State_MI', 'State_MN', 'State_MO', 'State_MS',\n",
       "       'State_MT', 'State_NC', 'State_ND', 'State_NE', 'State_NH', 'State_NJ',\n",
       "       'State_NM', 'State_NV', 'State_NY', 'State_OH', 'State_OK', 'State_OR',\n",
       "       'State_PA', 'State_RI', 'State_SC', 'State_SD', 'State_TN', 'State_TX',\n",
       "       'State_UT', 'State_VA', 'State_VT', 'State_WA', 'State_WI', 'State_WV',\n",
       "       'State_WY', 'Age_group_65+', 'Age_group_Overall',\n",
       "       'Stratification2_Black, non-Hispanic', 'Stratification2_Female',\n",
       "       'Stratification2_Hispanic', 'Stratification2_Male',\n",
       "       'Stratification2_Native Am/Alaskan Native',\n",
       "       'Stratification2_White, non-Hispanic',\n",
       "       'StratificationCategoryID2_RACE'],\n",
       "      dtype='object')"
      ]
     },
     "execution_count": 9,
     "metadata": {},
     "output_type": "execute_result"
    }
   ],
   "source": [
    "X_train.columns"
   ]
  },
  {
   "cell_type": "code",
   "execution_count": null,
   "id": "0db88167",
   "metadata": {},
   "outputs": [],
   "source": []
  }
 ],
 "metadata": {
  "kernelspec": {
   "display_name": "Python 3 (ipykernel)",
   "language": "python",
   "name": "python3"
  },
  "language_info": {
   "codemirror_mode": {
    "name": "ipython",
    "version": 3
   },
   "file_extension": ".py",
   "mimetype": "text/x-python",
   "name": "python",
   "nbconvert_exporter": "python",
   "pygments_lexer": "ipython3",
   "version": "3.9.13"
  }
 },
 "nbformat": 4,
 "nbformat_minor": 5
}
